{
 "cells": [
  {
   "cell_type": "code",
   "execution_count": 1,
   "id": "1003df16",
   "metadata": {},
   "outputs": [
    {
     "name": "stdout",
     "output_type": "stream",
     "text": [
      "0    1\n",
      "1    2\n",
      "2    3\n",
      "3    4\n",
      "4    5\n",
      "dtype: int64\n",
      "manthan dobariya\n"
     ]
    }
   ],
   "source": [
    "import pandas as pd\n",
    "# Creating a Series\n",
    "data = [1, 2, 3, 4, 5]\n",
    "series = pd.Series(data)\n",
    "print(series)\n",
    "print(\"manthan dobariya\")"
   ]
  },
  {
   "cell_type": "code",
   "execution_count": 2,
   "id": "bb525b7b",
   "metadata": {},
   "outputs": [
    {
     "name": "stdout",
     "output_type": "stream",
     "text": [
      "0    11\n",
      "1    12\n",
      "2    13\n",
      "3    14\n",
      "4    15\n",
      "dtype: int64\n",
      "2    3\n",
      "3    4\n",
      "4    5\n",
      "dtype: int64\n",
      "3.0\n",
      "manthan dobariya\n"
     ]
    }
   ],
   "source": [
    "# Arithmetic Operations\n",
    "series2 = series + 10\n",
    "print(series2)\n",
    "# Filtering\n",
    "filtered_series = series[series > 2]\n",
    "print(filtered_series)\n",
    "# Statistical Calculations\n",
    "mean_value = series.mean()\n",
    "print(mean_value)\n",
    "print(\"manthan dobariya\")"
   ]
  },
  {
   "cell_type": "code",
   "execution_count": 3,
   "id": "d2a5f39d",
   "metadata": {},
   "outputs": [
    {
     "name": "stdout",
     "output_type": "stream",
     "text": [
      "      Name  Age         City\n",
      "0    Alice   25     New York\n",
      "1      Bob   30  Los Angeles\n",
      "2  Charlie   35      Chicago\n",
      "manthan dobariya\n"
     ]
    }
   ],
   "source": [
    "# Creating a DataFrame\n",
    "data = {\n",
    "    'Name': ['Alice', 'Bob', 'Charlie'],\n",
    "    'Age': [25, 30, 35],\n",
    "    'City': ['New York', 'Los Angeles', 'Chicago']\n",
    "}\n",
    "df = pd.DataFrame(data)\n",
    "print(df)\n",
    "print(\"manthan dobariya\")"
   ]
  },
  {
   "cell_type": "code",
   "execution_count": 4,
   "id": "e6243c58",
   "metadata": {},
   "outputs": [
    {
     "name": "stdout",
     "output_type": "stream",
     "text": [
      "      Name\n",
      "0    Alice\n",
      "1      Bob\n",
      "2  Charlie\n",
      "manthan dobariya\n"
     ]
    }
   ],
   "source": [
    "# Accessing Columns (# select one column)\n",
    "print(df[['Name']])\n",
    "print(\"manthan dobariya\")"
   ]
  },
  {
   "cell_type": "code",
   "execution_count": 5,
   "id": "5db8050b",
   "metadata": {},
   "outputs": [
    {
     "name": "stdout",
     "output_type": "stream",
     "text": [
      "      Name  Age         City  Salary\n",
      "0    Alice   25     New York   70000\n",
      "1      Bob   30  Los Angeles   80000\n",
      "2  Charlie   35      Chicago   90000\n",
      "manthan dobariya\n"
     ]
    }
   ],
   "source": [
    "df['Salary'] = [70000, 80000, 90000]\n",
    "print(df)\n",
    "print(\"manthan dobariya\")"
   ]
  },
  {
   "cell_type": "code",
   "execution_count": 6,
   "id": "29ad078b",
   "metadata": {},
   "outputs": [
    {
     "name": "stdout",
     "output_type": "stream",
     "text": [
      "      Name  Age  Salary\n",
      "0    Alice   25   70000\n",
      "1      Bob   30   80000\n",
      "2  Charlie   35   90000\n",
      "manthan dobariya\n"
     ]
    }
   ],
   "source": [
    "df = df.drop('City', axis=1)\n",
    "print(df)\n",
    "print(\"manthan dobariya\")"
   ]
  },
  {
   "cell_type": "code",
   "execution_count": 7,
   "id": "04094f94",
   "metadata": {},
   "outputs": [
    {
     "name": "stdout",
     "output_type": "stream",
     "text": [
      "    Name  Age  Salary\n",
      "0  Alice   25   70000\n",
      "manthan dobariya\n"
     ]
    }
   ],
   "source": [
    "# Return row 0:\n",
    "print(df.loc[[0]])\n",
    "print(\"manthan dobariya\")"
   ]
  },
  {
   "cell_type": "code",
   "execution_count": 8,
   "id": "0a31490b",
   "metadata": {},
   "outputs": [
    {
     "name": "stdout",
     "output_type": "stream",
     "text": [
      "    Name  Age  Salary\n",
      "0  Alice   25   70000\n",
      "1    Bob   30   80000\n",
      "manthan dobariya\n"
     ]
    }
   ],
   "source": [
    "print(df.loc[[0, 1]])\n",
    "print(\"manthan dobariya\")"
   ]
  },
  {
   "cell_type": "code",
   "execution_count": 9,
   "id": "61e731d8",
   "metadata": {},
   "outputs": [
    {
     "name": "stdout",
     "output_type": "stream",
     "text": [
      "      calories  duration\n",
      "day1       420        50\n",
      "day2       380        40\n",
      "day3       390        45\n",
      "manthan dobariya\n"
     ]
    }
   ],
   "source": [
    "import pandas as pd\n",
    "data = {\n",
    "  \"calories\": [420, 380, 390],\n",
    "  \"duration\": [50, 40, 45]\n",
    "}\n",
    "df = pd.DataFrame(data, index = [\"day1\", \"day2\", \"day3\"])\n",
    "print(df)\n",
    "\n",
    "print(\"manthan dobariya\")"
   ]
  },
  {
   "cell_type": "code",
   "execution_count": 10,
   "id": "1d51cd8c",
   "metadata": {},
   "outputs": [
    {
     "name": "stdout",
     "output_type": "stream",
     "text": [
      "   Name City  Number\n",
      "0     A    M       1\n",
      "1     B    N       4\n",
      "2     C    V       5\n",
      "3     D    B       7\n",
      "4     E    J       8\n",
      "5     F    G       9\n",
      "6     G    F       7\n",
      "7     H    D       5\n",
      "8     I    C       6\n",
      "9     J    X       7\n",
      "10    K    Z       3\n",
      "11    L    S       4\n",
      "12    M    R       6\n",
      "manthan dobariya\n"
     ]
    }
   ],
   "source": [
    "dat = pd.read_csv(\"data.csv\")\n",
    "print(dat)\n",
    "\n",
    "print(\"manthan dobariya\")"
   ]
  },
  {
   "cell_type": "code",
   "execution_count": null,
   "id": "54f289e3",
   "metadata": {},
   "outputs": [
    {
     "name": "stdout",
     "output_type": "stream",
     "text": [
      "    Name  Age Gender\n",
      "0   John   28      M\n",
      "1  Emily   23      F\n",
      "2   Mike   35      M\n",
      "3   Lisa   31      F\n",
      "manthan dobariya\n"
     ]
    }
   ],
   "source": [
    "Biodata = {'Name': ['John', 'Emily', 'Mike', 'Lisa'],\n",
    "        'Age': [28, 23, 35, 31],\n",
    "        'Gender': ['M', 'F', 'M', 'F']\n",
    "        }\n",
    "df = pd.DataFrame(Biodata)\n",
    "# Save the dataframe to a CSV file\n",
    "df.to_csv('Biodata.csv', index=False)\n",
    "print(Biodata.csv)\n",
    "\n",
    "print(\"manthan dobariya\")"
   ]
  },
  {
   "cell_type": "code",
   "execution_count": 12,
   "id": "26695f08",
   "metadata": {},
   "outputs": [
    {
     "name": "stdout",
     "output_type": "stream",
     "text": [
      "<class 'pandas.core.frame.DataFrame'>\n",
      "RangeIndex: 13 entries, 0 to 12\n",
      "Data columns (total 3 columns):\n",
      " #   Column  Non-Null Count  Dtype \n",
      "---  ------  --------------  ----- \n",
      " 0   Name    13 non-null     object\n",
      " 1   City    13 non-null     object\n",
      " 2   Number  13 non-null     int64 \n",
      "dtypes: int64(1), object(2)\n",
      "memory usage: 444.0+ bytes\n",
      "None\n",
      "  Name City  Number\n",
      "0    A    M       1\n",
      "1    B    N       4\n",
      "2    C    V       5\n",
      "3    D    B       7\n",
      "4    E    J       8\n",
      "   Name City  Number\n",
      "8     I    C       6\n",
      "9     J    X       7\n",
      "10    K    Z       3\n",
      "11    L    S       4\n",
      "12    M    R       6\n",
      "          Number\n",
      "count  13.000000\n",
      "mean    5.538462\n",
      "std     2.183857\n",
      "min     1.000000\n",
      "25%     4.000000\n",
      "50%     6.000000\n",
      "75%     7.000000\n",
      "max     9.000000\n",
      "manthan dobariya\n"
     ]
    }
   ],
   "source": [
    "dat = pd.read_csv(\"data.csv\")\n",
    "print(dat.info())\n",
    "# shows first and last five rows\n",
    "print(dat.head())\n",
    "print(dat.tail())\n",
    "print(dat.describe())\n",
    "\n",
    "print(\"manthan dobariya\")"
   ]
  },
  {
   "cell_type": "code",
   "execution_count": 13,
   "id": "5a9d7181",
   "metadata": {},
   "outputs": [
    {
     "name": "stdout",
     "output_type": "stream",
     "text": [
      "   Name\n",
      "0     A\n",
      "1     B\n",
      "2     C\n",
      "3     D\n",
      "4     E\n",
      "5     F\n",
      "6     G\n",
      "7     H\n",
      "8     I\n",
      "9     J\n",
      "10    K\n",
      "11    L\n",
      "12    M\n",
      "   Name  Number\n",
      "0     A       1\n",
      "1     B       4\n",
      "2     C       5\n",
      "3     D       7\n",
      "4     E       8\n",
      "5     F       9\n",
      "6     G       7\n",
      "7     H       5\n",
      "8     I       6\n",
      "9     J       7\n",
      "10    K       3\n",
      "11    L       4\n",
      "12    M       6\n",
      "  Name City  Number\n",
      "1    B    N       4\n",
      "manthan dobariya\n"
     ]
    }
   ],
   "source": [
    "print(dat[['Name']])\n",
    "print(dat[['Name','Number']])\n",
    "print(dat.loc[[1]])\n",
    "\n",
    "print(\"manthan dobariya\")"
   ]
  },
  {
   "cell_type": "code",
   "execution_count": 17,
   "id": "32e4336f",
   "metadata": {},
   "outputs": [
    {
     "name": "stdout",
     "output_type": "stream",
     "text": [
      "Original DataFrame:\n",
      "       A          B          C     D           E\n",
      "0   NaN  50.009286   2.480896   1.0   10.000000\n",
      "1   2.0  44.910381  42.357341   2.0   12.915497\n",
      "2   3.0  29.916531  66.015421   3.0   16.681005\n",
      "3   4.0  28.721979  50.931674   4.0   21.544347\n",
      "4   5.0  53.296938  10.892886   5.0   27.825594\n",
      "5   6.0  40.707793  46.853590   6.0   35.938137\n",
      "6   7.0  42.701797  67.781156   7.0   46.415888\n",
      "7   8.0  55.322066   8.402286   8.0   59.948425\n",
      "8   9.0  53.058547  43.474039   9.0   77.426368\n",
      "9  10.0  34.103819  96.994434  10.0  100.000000 \n",
      "\n",
      "After modifying A (A*2):\n",
      "       A          B          C     D           E\n",
      "0   NaN  50.009286   2.480896   1.0   10.000000\n",
      "1   4.0  44.910381  42.357341   2.0   12.915497\n",
      "2   6.0  29.916531  66.015421   3.0   16.681005\n",
      "3   8.0  28.721979  50.931674   4.0   21.544347\n",
      "4  10.0  53.296938  10.892886   5.0   27.825594\n",
      "5  12.0  40.707793  46.853590   6.0   35.938137\n",
      "6  14.0  42.701797  67.781156   7.0   46.415888\n",
      "7  16.0  55.322066   8.402286   8.0   59.948425\n",
      "8  18.0  53.058547  43.474039   9.0   77.426368\n",
      "9  20.0  34.103819  96.994434  10.0  100.000000 \n",
      "\n",
      "After creating column F (A+B):\n",
      "       A          B          C     D           E          F\n",
      "0   NaN  50.009286   2.480896   1.0   10.000000        NaN\n",
      "1   4.0  44.910381  42.357341   2.0   12.915497  48.910381\n",
      "2   6.0  29.916531  66.015421   3.0   16.681005  35.916531\n",
      "3   8.0  28.721979  50.931674   4.0   21.544347  36.721979\n",
      "4  10.0  53.296938  10.892886   5.0   27.825594  63.296938\n",
      "5  12.0  40.707793  46.853590   6.0   35.938137  52.707793\n",
      "6  14.0  42.701797  67.781156   7.0   46.415888  56.701797\n",
      "7  16.0  55.322066   8.402286   8.0   59.948425  71.322066\n",
      "8  18.0  53.058547  43.474039   9.0   77.426368  71.058547\n",
      "9  20.0  34.103819  96.994434  10.0  100.000000  54.103819 \n",
      "\n",
      "After dropping column A:\n",
      "            B          C     D           E          F\n",
      "0  50.009286   2.480896   1.0   10.000000        NaN\n",
      "1  44.910381  42.357341   2.0   12.915497  48.910381\n",
      "2  29.916531  66.015421   3.0   16.681005  35.916531\n",
      "3  28.721979  50.931674   4.0   21.544347  36.721979\n",
      "4  53.296938  10.892886   5.0   27.825594  63.296938\n",
      "5  40.707793  46.853590   6.0   35.938137  52.707793\n",
      "6  42.701797  67.781156   7.0   46.415888  56.701797\n",
      "7  55.322066   8.402286   8.0   59.948425  71.322066\n",
      "8  53.058547  43.474039   9.0   77.426368  71.058547\n",
      "9  34.103819  96.994434  10.0  100.000000  54.103819 \n",
      "\n",
      "After dropping row 0:\n",
      "            B          C     D           E          F\n",
      "1  44.910381  42.357341   2.0   12.915497  48.910381\n",
      "2  29.916531  66.015421   3.0   16.681005  35.916531\n",
      "3  28.721979  50.931674   4.0   21.544347  36.721979\n",
      "4  53.296938  10.892886   5.0   27.825594  63.296938\n",
      "5  40.707793  46.853590   6.0   35.938137  52.707793\n",
      "6  42.701797  67.781156   7.0   46.415888  56.701797\n",
      "7  55.322066   8.402286   8.0   59.948425  71.322066\n",
      "8  53.058547  43.474039   9.0   77.426368  71.058547\n",
      "9  34.103819  96.994434  10.0  100.000000  54.103819 \n",
      "\n",
      "manthan dobariya\n"
     ]
    }
   ],
   "source": [
    "import pandas as pd\n",
    "import numpy as np\n",
    "\n",
    "# Create DataFrame with 5 numeric columns\n",
    "data = {\n",
    "    'A': [np.nan, 2, 3, 4, 5, 6, 7, 8, 9, 10],\n",
    "    'B': np.random.normal(50, 15, 10),\n",
    "    'C': np.random.rand(10) * 100,\n",
    "    'D': np.linspace(1, 10, 10),\n",
    "    'E': np.logspace(1, 2, 10)\n",
    "}\n",
    "\n",
    "df = pd.DataFrame(data)\n",
    "print(\"Original DataFrame:\\n\", df, \"\\n\")\n",
    "\n",
    "# Modify column A\n",
    "df['A'] = df['A'] * 2\n",
    "print(\"After modifying A (A*2):\\n\", df, \"\\n\")\n",
    "\n",
    "# Create new column F = A + B\n",
    "df['F'] = df['A'] + df['B']\n",
    "print(\"After creating column F (A+B):\\n\", df, \"\\n\")\n",
    "\n",
    "# Drop column A\n",
    "df = df.drop(columns=['A'])\n",
    "print(\"After dropping column A:\\n\", df, \"\\n\")\n",
    "\n",
    "# Drop row with index 0\n",
    "df = df.drop(index=[0])\n",
    "print(\"After dropping row 0:\\n\", df, \"\\n\")\n",
    "\n",
    "print(\"manthan dobariya\")\n"
   ]
  },
  {
   "cell_type": "code",
   "execution_count": 18,
   "id": "cf0898a8",
   "metadata": {},
   "outputs": [
    {
     "name": "stdout",
     "output_type": "stream",
     "text": [
      "Addition:\n",
      " 0    11\n",
      "1    22\n",
      "2    33\n",
      "3    44\n",
      "dtype: int64\n",
      "Subtraction:\n",
      " 0     9\n",
      "1    18\n",
      "2    27\n",
      "3    36\n",
      "dtype: int64\n",
      "Multiplication:\n",
      " 0     10\n",
      "1     40\n",
      "2     90\n",
      "3    160\n",
      "dtype: int64\n",
      "Division:\n",
      " 0    10.0\n",
      "1    10.0\n",
      "2    10.0\n",
      "3    10.0\n",
      "dtype: float64\n",
      "manthan dobariya\n"
     ]
    }
   ],
   "source": [
    "import pandas as pd\n",
    "\n",
    "s1 = pd.Series([10, 20, 30, 40])\n",
    "s2 = pd.Series([1, 2, 3, 4])\n",
    "\n",
    "print(\"Addition:\\n\", s1 + s2)\n",
    "print(\"Subtraction:\\n\", s1 - s2)\n",
    "print(\"Multiplication:\\n\", s1 * s2)\n",
    "print(\"Division:\\n\", s1 / s2)\n",
    "print(\"manthan dobariya\")\n"
   ]
  },
  {
   "cell_type": "code",
   "execution_count": 19,
   "id": "d3898a80",
   "metadata": {},
   "outputs": [
    {
     "name": "stdout",
     "output_type": "stream",
     "text": [
      "a    100\n",
      "b    200\n",
      "c    300\n",
      "dtype: int64\n",
      "manthan dobariya\n"
     ]
    }
   ],
   "source": [
    "import pandas as pd\n",
    "\n",
    "data = {\"a\": 100, \"b\": 200, \"c\": 300}\n",
    "s = pd.Series(data)\n",
    "print(s)\n",
    "print(\"manthan dobariya\")\n"
   ]
  },
  {
   "cell_type": "code",
   "execution_count": 20,
   "id": "c533bdc6",
   "metadata": {},
   "outputs": [
    {
     "name": "stdout",
     "output_type": "stream",
     "text": [
      "From list:\n",
      " 0    10\n",
      "1    20\n",
      "2    30\n",
      "dtype: int64\n",
      "\n",
      "From numpy array:\n",
      " 0    1\n",
      "1    2\n",
      "2    3\n",
      "3    4\n",
      "dtype: int64\n",
      "\n",
      "From dictionary:\n",
      " x    10\n",
      "y    20\n",
      "z    30\n",
      "dtype: int64\n",
      "manthan dobariya\n"
     ]
    }
   ],
   "source": [
    "import pandas as pd\n",
    "import numpy as np\n",
    "\n",
    "# From list\n",
    "s1 = pd.Series([10, 20, 30])\n",
    "print(\"From list:\\n\", s1)\n",
    "\n",
    "# From numpy array\n",
    "s2 = pd.Series(np.array([1, 2, 3, 4]))\n",
    "print(\"\\nFrom numpy array:\\n\", s2)\n",
    "\n",
    "# From dictionary\n",
    "s3 = pd.Series({\"x\": 10, \"y\": 20, \"z\": 30})\n",
    "print(\"\\nFrom dictionary:\\n\", s3)\n",
    "\n",
    "print(\"manthan dobariya\")\n"
   ]
  },
  {
   "cell_type": "code",
   "execution_count": 22,
   "id": "823fbe8d",
   "metadata": {},
   "outputs": [
    {
     "name": "stdout",
     "output_type": "stream",
     "text": [
      "Vertical stack:\n",
      " 0    1\n",
      "1    2\n",
      "2    3\n",
      "0    4\n",
      "1    5\n",
      "2    6\n",
      "dtype: int64\n",
      "\n",
      "Horizontal stack:\n",
      "    0  1\n",
      "0  1  4\n",
      "1  2  5\n",
      "2  3  6\n",
      "manthan dobariya\n"
     ]
    }
   ],
   "source": [
    "import pandas as pd\n",
    "\n",
    "s1 = pd.Series([1, 2, 3])\n",
    "s2 = pd.Series([4, 5, 6])\n",
    "\n",
    "# Vertical (one below another)\n",
    "vertical = pd.concat([s1, s2])\n",
    "print(\"Vertical stack:\\n\", vertical)\n",
    "\n",
    "# Horizontal (side by side → DataFrame)\n",
    "horizontal = pd.concat([s1, s2], axis=1)\n",
    "print(\"\\nHorizontal stack:\\n\", horizontal)\n",
    "\n",
    "print(\"manthan dobariya\")\n"
   ]
  }
 ],
 "metadata": {
  "kernelspec": {
   "display_name": "Python 3",
   "language": "python",
   "name": "python3"
  },
  "language_info": {
   "codemirror_mode": {
    "name": "ipython",
    "version": 3
   },
   "file_extension": ".py",
   "mimetype": "text/x-python",
   "name": "python",
   "nbconvert_exporter": "python",
   "pygments_lexer": "ipython3",
   "version": "3.13.1"
  }
 },
 "nbformat": 4,
 "nbformat_minor": 5
}
