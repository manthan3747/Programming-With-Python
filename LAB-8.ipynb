{
 "cells": [
  {
   "cell_type": "code",
   "execution_count": null,
   "id": "7291e91e",
   "metadata": {},
   "outputs": [
    {
     "ename": "AttributeError",
     "evalue": "module 'example' has no attribute 'add'",
     "output_type": "error",
     "traceback": [
      "\u001b[31m---------------------------------------------------------------------------\u001b[39m",
      "\u001b[31mAttributeError\u001b[39m                            Traceback (most recent call last)",
      "\u001b[36mCell\u001b[39m\u001b[36m \u001b[39m\u001b[32mIn[7]\u001b[39m\u001b[32m, line 2\u001b[39m\n\u001b[32m      1\u001b[39m \u001b[38;5;28;01mimport\u001b[39;00m\u001b[38;5;250m \u001b[39m\u001b[34;01mexample\u001b[39;00m\u001b[38;5;250m \u001b[39m\u001b[38;5;28;01mas\u001b[39;00m\u001b[38;5;250m \u001b[39m\u001b[34;01maddition\u001b[39;00m\n\u001b[32m----> \u001b[39m\u001b[32m2\u001b[39m c = \u001b[43maddition\u001b[49m\u001b[43m.\u001b[49m\u001b[43madd\u001b[49m(\u001b[32m4\u001b[39m, \u001b[32m5\u001b[39m)\n\u001b[32m      3\u001b[39m \u001b[38;5;28mprint\u001b[39m(c)\n\u001b[32m      6\u001b[39m \u001b[38;5;28mprint\u001b[39m(\u001b[33m\"\u001b[39m\u001b[33mmanthan dobariya\u001b[39m\u001b[33m\"\u001b[39m)\n",
      "\u001b[31mAttributeError\u001b[39m: module 'example' has no attribute 'add'"
     ]
    }
   ],
   "source": [
    "import example as addition\n",
    "a = addition.add(4, 5)\n",
    "print(a)\n",
    "\n",
    "\n",
    "print(\"manthan dobariya\")"
   ]
  },
  {
   "cell_type": "code",
   "execution_count": 8,
   "id": "5ba29bdb",
   "metadata": {},
   "outputs": [
    {
     "name": "stdout",
     "output_type": "stream",
     "text": [
      "The value of pi is 3.141592653589793\n",
      "manthan dobariya\n"
     ]
    }
   ],
   "source": [
    "#import standard math module \n",
    "import math\n",
    "# use math.pi to get value of pi\n",
    "print(\"The value of pi is\", math.pi)\n",
    "\n",
    "print(\"manthan dobariya\")"
   ]
  },
  {
   "cell_type": "code",
   "execution_count": 9,
   "id": "7f03a4ae",
   "metadata": {},
   "outputs": [
    {
     "name": "stdout",
     "output_type": "stream",
     "text": [
      "3.141592653589793\n",
      "manthan dobariya\n"
     ]
    }
   ],
   "source": [
    "# import module by renaming it\n",
    "import math as m\n",
    "print(m.pi)\n",
    "\n",
    "print(\"manthan dobariya\")"
   ]
  },
  {
   "cell_type": "code",
   "execution_count": 10,
   "id": "799a4e07",
   "metadata": {},
   "outputs": [
    {
     "name": "stdout",
     "output_type": "stream",
     "text": [
      "3.141592653589793\n",
      "manthan dobariya\n"
     ]
    }
   ],
   "source": [
    "# import only pi from math module\n",
    "from math import pi\n",
    "print(pi)\n",
    "\n",
    "print(\"manthan dobariya\")"
   ]
  },
  {
   "cell_type": "code",
   "execution_count": 11,
   "id": "70096acc",
   "metadata": {},
   "outputs": [
    {
     "name": "stdout",
     "output_type": "stream",
     "text": [
      "The value of pi is 3.141592653589793\n",
      "manthan dobariya\n"
     ]
    }
   ],
   "source": [
    "# import all names from the standard module math\n",
    "from math import *\n",
    "print(\"The value of pi is\", pi)\n",
    "\n",
    "print(\"manthan dobariya\")"
   ]
  },
  {
   "cell_type": "code",
   "execution_count": 12,
   "id": "1003df16",
   "metadata": {},
   "outputs": [
    {
     "name": "stdout",
     "output_type": "stream",
     "text": [
      "['__doc__', '__loader__', '__name__', '__package__', '__spec__', 'acos', 'acosh', 'asin', 'asinh', 'atan', 'atan2', 'atanh', 'cbrt', 'ceil', 'comb', 'copysign', 'cos', 'cosh', 'degrees', 'dist', 'e', 'erf', 'erfc', 'exp', 'exp2', 'expm1', 'fabs', 'factorial', 'floor', 'fma', 'fmod', 'frexp', 'fsum', 'gamma', 'gcd', 'hypot', 'inf', 'isclose', 'isfinite', 'isinf', 'isnan', 'isqrt', 'lcm', 'ldexp', 'lgamma', 'log', 'log10', 'log1p', 'log2', 'modf', 'nan', 'nextafter', 'perm', 'pi', 'pow', 'prod', 'radians', 'remainder', 'sin', 'sinh', 'sqrt', 'sumprod', 'tan', 'tanh', 'tau', 'trunc', 'ulp']\n",
      "manthan dobariya\n"
     ]
    }
   ],
   "source": [
    "print(dir(math))\n",
    "print(\"manthan dobariya\")"
   ]
  },
  {
   "cell_type": "code",
   "execution_count": 13,
   "id": "9ee27980",
   "metadata": {},
   "outputs": [
    {
     "name": "stdout",
     "output_type": "stream",
     "text": [
      "\n",
      "Please wait a moment while I gather a list of all available modules...\n",
      "\n",
      "test_sqlite3: testing with SQLite version 3.45.3\n"
     ]
    },
    {
     "name": "stderr",
     "output_type": "stream",
     "text": [
      "[INFO   ] [Logger      ] Record log in C:\\Users\\asusn\\.kivy\\logs\\kivy_25-08-18_0.txt\n",
      "[ERROR  ] [Core        ] option --f not a unique prefix\n"
     ]
    },
    {
     "name": "stdout",
     "output_type": "stream",
     "text": [
      "Kivy Usage: ipykernel_launcher.py [KIVY OPTION...] [-- PROGRAM OPTIONS]::\n",
      "\n",
      "    Options placed after a '-- ' separator, will not be touched by kivy,\n",
      "    and instead passed to your program.\n",
      "\n",
      "    Set KIVY_NO_ARGS=1 in your environment or before you import Kivy to\n",
      "    disable Kivy's argument parser.\n",
      "\n",
      "-h, --help\n",
      "    Prints this help message.\n",
      "-d, --debug\n",
      "    Shows debug log.\n",
      "-a, --auto-fullscreen\n",
      "    Force 'auto' fullscreen mode (no resolution change).\n",
      "    Uses your display's resolution. This is most likely what you want.\n",
      "-c, --config section:key[:value]\n",
      "    Set a custom [section] key=value in the configuration object.\n",
      "-f, --fullscreen\n",
      "    Force running in fullscreen mode.\n",
      "-k, --fake-fullscreen\n",
      "    Force 'fake' fullscreen mode (no window border/decoration).\n",
      "    Uses the resolution specified by width and height in your config.\n",
      "-w, --windowed\n",
      "    Force running in a window.\n",
      "-p, --provider id:provider[,options]\n",
      "    Add an input provider (eg: ccvtable1:tuio,192.168.0.1:3333).\n",
      "-m mod, --module=mod\n",
      "    Activate a module (use \"list\" to get a list of available modules).\n",
      "-r, --rotation\n",
      "    Rotate the window's contents (0, 90, 180, 270).\n",
      "-s, --save\n",
      "    Save current Kivy configuration.\n",
      "--size=640x480\n",
      "    Size of window geometry.\n",
      "--dpi=96\n",
      "    Manually overload the Window DPI (for testing only.)\n",
      "\n"
     ]
    },
    {
     "ename": "SystemExit",
     "evalue": "2",
     "output_type": "error",
     "traceback": [
      "An exception has occurred, use %tb to see the full traceback.\n",
      "\u001b[31mSystemExit\u001b[39m\u001b[31m:\u001b[39m 2\n"
     ]
    },
    {
     "name": "stderr",
     "output_type": "stream",
     "text": [
      " C:\\Users\\asusn\\AppData\\Roaming\\Python\\Python313\\site-packages\\IPython\\core\\interactiveshell.py:3707: UserWarning: To exit: use 'exit', 'quit', or Ctrl-D.\n",
      "   warn(\"To exit: use 'exit', 'quit', or Ctrl-D.\", stacklevel=1)\n"
     ]
    }
   ],
   "source": [
    "help('modules')\n",
    "print(\"manthan dobariya\")"
   ]
  },
  {
   "cell_type": "code",
   "execution_count": 15,
   "id": "ee10b7ac",
   "metadata": {},
   "outputs": [
    {
     "name": "stdout",
     "output_type": "stream",
     "text": [
      "Area of circle = 78.53981633974483\n",
      "manthan dobariya\n"
     ]
    }
   ],
   "source": [
    "import math\n",
    "\n",
    "r = 5  # radius\n",
    "area = math.pi * (r ** 2)\n",
    "print(\"Area of circle =\", area)\n",
    "\n",
    "print(\"manthan dobariya\")\n"
   ]
  },
  {
   "cell_type": "code",
   "execution_count": 16,
   "id": "4fded6b2",
   "metadata": {},
   "outputs": [
    {
     "name": "stdout",
     "output_type": "stream",
     "text": [
      "inf\n",
      "-inf\n",
      "manthan dobariya\n"
     ]
    }
   ],
   "source": [
    "import math \n",
    "print (math.inf) \n",
    "print (-math.inf)\n",
    "\n",
    "print(\"manthan dobariya\")"
   ]
  },
  {
   "cell_type": "code",
   "execution_count": 17,
   "id": "3f7604be",
   "metadata": {},
   "outputs": [
    {
     "name": "stdout",
     "output_type": "stream",
     "text": [
      "Degree: 180\n",
      "Radian: 3.141592653589793\n",
      "manthan dobariya\n"
     ]
    }
   ],
   "source": [
    "import math\n",
    "\n",
    "degree = 180\n",
    "radian = math.radians(degree)\n",
    "print(\"Degree:\", degree)\n",
    "print(\"Radian:\", radian)\n",
    "print(\"manthan dobariya\")\n"
   ]
  },
  {
   "cell_type": "code",
   "execution_count": 18,
   "id": "f2d4f3b8",
   "metadata": {},
   "outputs": [
    {
     "name": "stdout",
     "output_type": "stream",
     "text": [
      "For x = 2 , y = 27.637189707302728\n",
      "manthan dobariya\n"
     ]
    }
   ],
   "source": [
    "import math\n",
    "\n",
    "x = 2\n",
    "y = 6 * (x ** 2) + 4 * math.sin(x)\n",
    "print(\"For x =\", x, \", y =\", y)\n",
    "print(\"manthan dobariya\")\n"
   ]
  },
  {
   "cell_type": "code",
   "execution_count": 19,
   "id": "d954f431",
   "metadata": {},
   "outputs": [
    {
     "name": "stdout",
     "output_type": "stream",
     "text": [
      "At x = π\n",
      "f(x)   = 1.0\n",
      "f'(x)  = 4.898587196589413e-16\n",
      "f''(x) = -4.0\n",
      "manthan dobariya\n"
     ]
    }
   ],
   "source": [
    "import math\n",
    "\n",
    "def functions(x):\n",
    "    f = math.cos(2 * x)\n",
    "    f1 = -2 * math.sin(2 * x)\n",
    "    f2 = -4 * math.cos(2 * x)\n",
    "    return f, f1, f2\n",
    "\n",
    "x = math.pi\n",
    "f, f1, f2 = functions(x)\n",
    "\n",
    "print(\"At x = π\")\n",
    "print(\"f(x)   =\", f)\n",
    "print(\"f'(x)  =\", f1)\n",
    "print(\"f''(x) =\", f2)\n",
    "print(\"manthan dobariya\")\n"
   ]
  }
 ],
 "metadata": {
  "kernelspec": {
   "display_name": "Python 3",
   "language": "python",
   "name": "python3"
  },
  "language_info": {
   "codemirror_mode": {
    "name": "ipython",
    "version": 3
   },
   "file_extension": ".py",
   "mimetype": "text/x-python",
   "name": "python",
   "nbconvert_exporter": "python",
   "pygments_lexer": "ipython3",
   "version": "3.13.1"
  }
 },
 "nbformat": 4,
 "nbformat_minor": 5
}
