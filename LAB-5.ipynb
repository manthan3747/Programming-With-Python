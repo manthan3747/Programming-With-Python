{
 "cells": [
  {
   "cell_type": "code",
   "execution_count": 2,
   "id": "4ff232ce",
   "metadata": {},
   "outputs": [
    {
     "name": "stdout",
     "output_type": "stream",
     "text": [
      "(1, 2, -5)\n"
     ]
    }
   ],
   "source": [
    "# Create a Python Tuple\n",
    "numbers = (1, 2, -5)\n",
    "print(numbers)\n"
   ]
  },
  {
   "cell_type": "code",
   "execution_count": 3,
   "id": "0aedf129",
   "metadata": {},
   "outputs": [
    {
     "name": "stdout",
     "output_type": "stream",
     "text": [
      "(0, [1, 2, 3], (4, 5, 6), 7.0)\n"
     ]
    }
   ],
   "source": [
    "a_tuple = (0, [1, 2, 3], (4, 5, 6), 7.0)\n",
    "print(a_tuple)\n"
   ]
  },
  {
   "cell_type": "code",
   "execution_count": 4,
   "id": "fb672101",
   "metadata": {},
   "outputs": [
    {
     "name": "stdout",
     "output_type": "stream",
     "text": [
      "Python\n"
     ]
    }
   ],
   "source": [
    "languages = ('Python', 'Swift', 'C++')\n",
    "languages = ('Python', 'Swift', 'C++')\n",
    "# access the first item\n",
    "print(languages[0])   # Python\n"
   ]
  },
  {
   "cell_type": "code",
   "execution_count": 36,
   "id": "41c21350",
   "metadata": {},
   "outputs": [
    {
     "name": "stdout",
     "output_type": "stream",
     "text": [
      "Total Items: 4\n",
      "# Manthan Dobariya\n"
     ]
    }
   ],
   "source": [
    "cars = ('BMW', 'Tesla', 'Ford', 'Toyota')\n",
    "print('Total Items:', len(cars))\n",
    "name = \"# Manthan Dobariya\"\n",
    "print(name)\n"
   ]
  },
  {
   "cell_type": "code",
   "execution_count": 37,
   "id": "d4dbf828",
   "metadata": {},
   "outputs": [
    {
     "name": "stdout",
     "output_type": "stream",
     "text": [
      "(0, 1, 2, 3, 4)\n",
      "# Manthan Dobariya\n"
     ]
    }
   ],
   "source": [
    "a = tuple(range(5))\n",
    "print(a)\n",
    "name = \"# Manthan Dobariya\"\n",
    "print(name)"
   ]
  },
  {
   "cell_type": "code",
   "execution_count": 38,
   "id": "b058cc0e",
   "metadata": {},
   "outputs": [
    {
     "name": "stdout",
     "output_type": "stream",
     "text": [
      "(5, 6, 7, 8, 9)\n",
      "# Manthan Dobariya\n"
     ]
    }
   ],
   "source": [
    "b = tuple(range(5,10))\n",
    "print(b)\n",
    "name = \"# Manthan Dobariya\"\n",
    "print(name)\n"
   ]
  },
  {
   "cell_type": "code",
   "execution_count": 39,
   "id": "9a464f26",
   "metadata": {},
   "outputs": [
    {
     "name": "stdout",
     "output_type": "stream",
     "text": [
      "(0, 2, 4, 6, 8)\n",
      "# Manthan Dobariya\n"
     ]
    }
   ],
   "source": [
    "c = tuple(range(0,10,2))\n",
    "print(c)\n",
    "name = \"# Manthan Dobariya\"\n",
    "print(name)"
   ]
  },
  {
   "cell_type": "code",
   "execution_count": 40,
   "id": "abf17071",
   "metadata": {},
   "outputs": [
    {
     "name": "stdout",
     "output_type": "stream",
     "text": [
      "(10, 8, 6, 4, 2)\n",
      "# Manthan Dobariya\n"
     ]
    }
   ],
   "source": [
    "d = tuple(range(10,0,-2))\n",
    "print(d)\n",
    "name = \"# Manthan Dobariya\"\n",
    "print(name)"
   ]
  },
  {
   "cell_type": "code",
   "execution_count": 42,
   "id": "fff32e61",
   "metadata": {},
   "outputs": [
    {
     "name": "stdout",
     "output_type": "stream",
     "text": [
      "14\n",
      "# Manthan Dobariya\n"
     ]
    }
   ],
   "source": [
    "t1 = (2,3,4,5)\n",
    "print(sum(t1))\n",
    "name = \"# Manthan Dobariya\"\n",
    "print(name)"
   ]
  },
  {
   "cell_type": "code",
   "execution_count": 43,
   "metadata": {},
   "outputs": [
    {
     "name": "stdout",
     "output_type": "stream",
     "text": [
      "4\n",
      "# Manthan Dobariya\n"
     ]
    }
   ],
   "source": [
    "t3 = (3,4,4,2,2,3,6,7,4,4)\n",
    "print(t3.count(4))\n",
    "name = \"# Manthan Dobariya\"\n",
    "print(name)"
   ]
  },
  {
   "cell_type": "code",
   "execution_count": 44,
   "id": "1eac59c9",
   "metadata": {},
   "outputs": [
    {
     "name": "stdout",
     "output_type": "stream",
     "text": [
      "3\n",
      "8\n",
      "# Manthan Dobariya\n"
     ]
    }
   ],
   "source": [
    "t3 = (3,4,4,2,2,3,6,7,4,4)\n",
    "print(t3.index(2))\n",
    "print(t3.index(4,3,9))\n",
    "name = \"# Manthan Dobariya\"\n",
    "print(name)\n"
   ]
  },
  {
   "cell_type": "code",
   "execution_count": 45,
   "id": "26fa52ab",
   "metadata": {},
   "outputs": [
    {
     "name": "stdout",
     "output_type": "stream",
     "text": [
      "2\n",
      "# Manthan Dobariya\n"
     ]
    }
   ],
   "source": [
    "t3 = (3,4,4,2,2,3,6,7,4,4)\n",
    "print(min(t3))\n",
    "name = \"# Manthan Dobariya\"\n",
    "print(name)"
   ]
  },
  {
   "cell_type": "code",
   "execution_count": 46,
   "id": "d79538dc",
   "metadata": {},
   "outputs": [
    {
     "name": "stdout",
     "output_type": "stream",
     "text": [
      "9\n",
      "# Manthan Dobariya\n"
     ]
    }
   ],
   "source": [
    "numbers = (7, 2, 8, 5, 9)\n",
    "print(max(numbers))\n",
    "name = \"# Manthan Dobariya\"\n",
    "print(name)\n"
   ]
  },
  {
   "cell_type": "code",
   "execution_count": 47,
   "id": "da1d8538",
   "metadata": {},
   "outputs": [
    {
     "name": "stdout",
     "output_type": "stream",
     "text": [
      "(5, 6, 7, 9)\n",
      "('a', 'b', 'v')\n",
      "# Manthan Dobariya\n"
     ]
    }
   ],
   "source": [
    "a = (5,6,7,5,5,9,7)\n",
    "b = (\"a\",\"b\",\"v\",\"b\")\n",
    "my_tu_1 = tuple(dict.fromkeys(a))\n",
    "print(my_tu_1)\n",
    "my_tu_2 = tuple(dict.fromkeys(b))\n",
    "print(my_tu_2)\n",
    "name = \"# Manthan Dobariya\"\n",
    "print(name)"
   ]
  },
  {
   "cell_type": "code",
   "execution_count": 48,
   "id": "8fbc823c",
   "metadata": {},
   "outputs": [
    {
     "name": "stdout",
     "output_type": "stream",
     "text": [
      "(('Simon', 'Sinek', 49), ('Sarah', 'Smith', 55), ('Mehdi', 'Lotfinejad', 39), ('Fatime', 'Lopes', 33))\n",
      "# Manthan Dobariya\n"
     ]
    }
   ],
   "source": [
    "first_names = ('Simon', 'Sarah', 'Mehdi', 'Fatime')\n",
    "last_names = ('Sinek', 'Smith', 'Lotfinejad', 'Lopes')\n",
    "ages = (49, 55, 39, 33)\n",
    "zipped = tuple(zip(first_names, last_names,ages))\n",
    "print(zipped)\n",
    "name = \"# Manthan Dobariya\"\n",
    "print(name)"
   ]
  },
  {
   "cell_type": "code",
   "execution_count": 49,
   "id": "9ca258a3",
   "metadata": {},
   "outputs": [
    {
     "name": "stdout",
     "output_type": "stream",
     "text": [
      "(1, 2, 3, 4, 5, 6)\n",
      "# Manthan Dobariya\n"
     ]
    }
   ],
   "source": [
    "b = ((1,2),(3,4),(5,6))\n",
    "my = tuple(item for l in b for item in l)\n",
    "print(my)\n",
    "name = \"# Manthan Dobariya\"\n",
    "print(name)"
   ]
  },
  {
   "cell_type": "code",
   "execution_count": 50,
   "id": "820ad628",
   "metadata": {},
   "outputs": [
    {
     "name": "stdout",
     "output_type": "stream",
     "text": [
      "Occurrences of 2 : 3\n",
      "# Manthan Dobariya\n"
     ]
    }
   ],
   "source": [
    "my_tuple = (1, 2, 3, 2, 4, 2, 5)\n",
    "count = my_tuple.count(2)\n",
    "print(\"Occurrences of 2 :\", count)\n",
    "name = \"# Manthan Dobariya\"\n",
    "print(name)"
   ]
  },
  {
   "cell_type": "code",
   "execution_count": 51,
   "id": "bf9c116c",
   "metadata": {},
   "outputs": [
    {
     "name": "stdout",
     "output_type": "stream",
     "text": [
      "30 exists in the tuple.\n",
      "# Manthan Dobariya\n"
     ]
    }
   ],
   "source": [
    "my_tuple = (10, 20, 30, 40)\n",
    "element = 30\n",
    "\n",
    "if element in my_tuple:\n",
    "    print(f\"{element} exists in the tuple.\")\n",
    "else:\n",
    "    print(f\"{element} does not exist in the tuple.\")\n",
    "name = \"# Manthan Dobariya\"\n",
    "print(name)"
   ]
  },
  {
   "cell_type": "code",
   "execution_count": 52,
   "id": "c453e6d4",
   "metadata": {},
   "outputs": [
    {
     "name": "stdout",
     "output_type": "stream",
     "text": [
      "String: MANTHAN\n",
      "# Manthan Dobariya\n"
     ]
    }
   ],
   "source": [
    "my_tuple = ('M', 'A', 'N', 'T', 'H', 'A', 'N')\n",
    "result = ''.join(my_tuple)\n",
    "print(\"String:\", result)\n",
    "name = \"# Manthan Dobariya\"\n",
    "print(name)"
   ]
  },
  {
   "cell_type": "code",
   "execution_count": 53,
   "id": "8c944bc1",
   "metadata": {},
   "outputs": [
    {
     "name": "stdout",
     "output_type": "stream",
     "text": [
      "Maximum: 9\n",
      "Minimum: 1\n",
      "# Manthan Dobariya\n"
     ]
    }
   ],
   "source": [
    "my_tuple = (5, 2, 8, 1, 9)\n",
    "maximum = max(my_tuple)\n",
    "minimum = min(my_tuple)\n",
    "print(\"Maximum:\", maximum)\n",
    "print(\"Minimum:\", minimum)\n",
    "name = \"# Manthan Dobariya\"\n",
    "print(name)"
   ]
  },
  {
   "cell_type": "code",
   "execution_count": 54,
   "id": "9015600e",
   "metadata": {},
   "outputs": [
    {
     "name": "stdout",
     "output_type": "stream",
     "text": [
      "Single string: My Name is Manthan\n",
      "# Manthan Dobariya\n"
     ]
    }
   ],
   "source": [
    "my_tuple = ('My','Name','is', 'Manthan')\n",
    "result = ' '.join(my_tuple)\n",
    "print(\"Single string:\", result)\n",
    "name = \"# Manthan Dobariya\"\n",
    "print(name)"
   ]
  },
  {
   "cell_type": "code",
   "execution_count": 55,
   "id": "10a4bba0",
   "metadata": {},
   "outputs": [
    {
     "name": "stdout",
     "output_type": "stream",
     "text": [
      "Sorted tuple: (1, 2, 3, 4, 5)\n",
      "# Manthan Dobariya\n"
     ]
    }
   ],
   "source": [
    "my_tuple = (3, 1, 4, 2, 5)\n",
    "sorted_tuple = tuple(sorted(my_tuple))\n",
    "print(\"Sorted tuple:\", sorted_tuple)\n",
    "name = \"# Manthan Dobariya\"\n",
    "print(name)"
   ]
  },
  {
   "cell_type": "code",
   "execution_count": 56,
   "id": "af15aedf",
   "metadata": {},
   "outputs": [
    {
     "name": "stdout",
     "output_type": "stream",
     "text": [
      "First element: 10\n",
      "Last element: 50\n",
      "# Manthan Dobariya\n"
     ]
    }
   ],
   "source": [
    "my_tuple = (10, 20, 30, 40, 50)\n",
    "first = my_tuple[0]\n",
    "last = my_tuple[-1]\n",
    "print(\"First element:\", first)\n",
    "print(\"Last element:\", last)\n",
    "name = \"# Manthan Dobariya\"\n",
    "print(name)"
   ]
  }
 ],
 "metadata": {
  "kernelspec": {
   "display_name": "Python 3",
   "language": "python",
   "name": "python3"
  },
  "language_info": {
   "codemirror_mode": {
    "name": "ipython",
    "version": 3
   },
   "file_extension": ".py",
   "mimetype": "text/x-python",
   "name": "python",
   "nbconvert_exporter": "python",
   "pygments_lexer": "ipython3",
   "version": "3.13.1"
  }
 },
 "nbformat": 4,
 "nbformat_minor": 5
}
