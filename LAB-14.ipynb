{
 "cells": [
  {
   "cell_type": "code",
   "execution_count": 1,
   "id": "156fef9c",
   "metadata": {},
   "outputs": [
    {
     "name": "stdout",
     "output_type": "stream",
     "text": [
      "Car: Toyota, Model: Corolla\n"
     ]
    }
   ],
   "source": [
    "class Car:\n",
    "    # Constructor to initialize the object\n",
    "    def __init__(self, brand, model):\n",
    "        self.brand = brand  # Attribute\n",
    "        self.model = model  # Attribute\n",
    "\n",
    "    # Method to describe the car\n",
    "    def car_details(self):\n",
    "        return f\"Car: {self.brand}, Model: {self.model}\"\n",
    "\n",
    "# Creating an object of the Car class\n",
    "my_car = Car(\"Toyota\", \"Corolla\")\n",
    "print(my_car.car_details())  \n",
    "\n"
   ]
  },
  {
   "cell_type": "code",
   "execution_count": 13,
   "id": "c426e0a4",
   "metadata": {},
   "outputs": [
    {
     "name": "stdout",
     "output_type": "stream",
     "text": [
      "Area: 50\n",
      "Perimeter: 30\n"
     ]
    }
   ],
   "source": [
    "class Rectangle:\n",
    "    def __init__(self, width, height):\n",
    "        self.width = width\n",
    "        self.height = height\n",
    "\n",
    "    # Method to calculate area\n",
    "    def area(self):\n",
    "        return self.width * self.height\n",
    "\n",
    "    # Method to calculate perimeter\n",
    "    def perimeter(self):\n",
    "        return 2 * (self.width + self.height)\n",
    "    \n",
    "    rect = Rectangle(10, 5)\n",
    "\n",
    "# Accessing methods\n",
    "print(f\"Area: {rect.area()}\")  # Output: Area: 50\n",
    "print(f\"Perimeter: {rect.perimeter()}\")  # Output: Perimeter: 30\n"
   ]
  },
  {
   "cell_type": "code",
   "execution_count": null,
   "id": "4f4462dd",
   "metadata": {},
   "outputs": [
    {
     "name": "stdout",
     "output_type": "stream",
     "text": [
      "Area: 50\n",
      "Perimeter: 30\n"
     ]
    }
   ],
   "source": [
    "\n"
   ]
  },
  {
   "cell_type": "code",
   "execution_count": 4,
   "id": "4e4ad3bd",
   "metadata": {},
   "outputs": [
    {
     "name": "stdout",
     "output_type": "stream",
     "text": [
      "1500\n",
      "800\n"
     ]
    }
   ],
   "source": [
    "class BankAccount:\n",
    "    def __init__(self, account_holder, balance):\n",
    "        self.account_holder = account_holder\n",
    "        self.__balance = balance  # Private attribute\n",
    "\n",
    "    def deposit(self, amount):\n",
    "        self.__balance += amount\n",
    "\n",
    "    def withdraw(self, amount):\n",
    "        if amount <= self.__balance:\n",
    "            self.__balance -= amount\n",
    "        else:\n",
    "            print(\"Insufficient funds\")\n",
    "\n",
    "    def get_balance(self):\n",
    "        return self.__balance\n",
    "\n",
    "# Create an account\n",
    "account = BankAccount(\"John\", 1000)\n",
    "account.deposit(500)\n",
    "print(account.get_balance())  # \n",
    "account.withdraw(700)\n",
    "print(account.get_balance())  # \n"
   ]
  },
  {
   "cell_type": "code",
   "execution_count": 5,
   "id": "54f8176f",
   "metadata": {},
   "outputs": [
    {
     "name": "stdout",
     "output_type": "stream",
     "text": [
      "Buddy says Woof!\n",
      "Whiskers says Meow!\n"
     ]
    }
   ],
   "source": [
    "class Animal:\n",
    "    def __init__(self, name):\n",
    "        self.name = name\n",
    "\n",
    "    def speak(self):\n",
    "        return \"I am an animal.\"\n",
    "\n",
    "# Dog class inherits from Animal class\n",
    "class Dog(Animal):\n",
    "    def speak(self):\n",
    "        return f\"{self.name} says Woof!\"\n",
    "\n",
    "# Cat class inherits from Animal class\n",
    "class Cat(Animal):\n",
    "    def speak(self):\n",
    "        return f\"{self.name} says Meow!\"\n",
    "\n",
    "dog = Dog(\"Buddy\")\n",
    "cat = Cat(\"Whiskers\")\n",
    "print(dog.speak())  # \n",
    "print(cat.speak())  # \n"
   ]
  },
  {
   "cell_type": "code",
   "execution_count": 6,
   "id": "30efa9bb",
   "metadata": {},
   "outputs": [
    {
     "name": "stdout",
     "output_type": "stream",
     "text": [
      "Rendering Square...\n",
      "Rendering Circle...\n"
     ]
    }
   ],
   "source": [
    "class Polygon:\n",
    "    # method to render a shape\n",
    "    def render(self):\n",
    "        print(\"Rendering Polygon...\")\n",
    "\n",
    "class Square(Polygon):\n",
    "    # renders Square\n",
    "    def render(self):\n",
    "        print(\"Rendering Square...\")\n",
    "\n",
    "class Circle(Polygon):\n",
    "    # renders circle\n",
    "    def render(self):\n",
    "        print(\"Rendering Circle...\")\n",
    "    \n",
    "# create an object of Square\n",
    "s1 = Square()\n",
    "s1.render()\n",
    "\n",
    "# create an object of Circle\n",
    "c1 = Circle()\n",
    "c1.render()\n"
   ]
  },
  {
   "cell_type": "code",
   "execution_count": 7,
   "id": "11a8c264",
   "metadata": {},
   "outputs": [
    {
     "name": "stdout",
     "output_type": "stream",
     "text": [
      "Area of the circle: 78.5\n"
     ]
    }
   ],
   "source": [
    "from abc import ABC, abstractmethod\n",
    "\n",
    "# Abstract class\n",
    "class Shape(ABC):\n",
    "    @abstractmethod\n",
    "    def area(self):\n",
    "        pass\n",
    "\n",
    "class Circle(Shape):\n",
    "    def __init__(self, radius):\n",
    "        self.radius = radius\n",
    "\n",
    "    def area(self):\n",
    "        return 3.14 * self.radius * self.radius\n",
    "\n",
    "circle = Circle(5)\n",
    "print(f\"Area of the circle: {circle.area()}\")  #\n"
   ]
  },
  {
   "cell_type": "code",
   "execution_count": 9,
   "id": "fabf8105",
   "metadata": {},
   "outputs": [
    {
     "name": "stdout",
     "output_type": "stream",
     "text": [
      "Post Lab 1\n",
      "Radius: 3\n",
      "Area: 28.259999999999998\n",
      "Perimeter: 18.84\n",
      "\n"
     ]
    }
   ],
   "source": [
    "print(\"Post Lab 1\")\n",
    "\n",
    "class Circle:\n",
    "    def __init__(self, radius):\n",
    "        self.radius = radius\n",
    "    \n",
    "    def area(self):\n",
    "        return 3.14 * self.radius * self.radius\n",
    "    \n",
    "    def perimeter(self):\n",
    "        return 2 * 3.14 * self.radius\n",
    "\n",
    "# Create a circle object\n",
    "circle1 = Circle(3)\n",
    "print(\"Radius:\", circle1.radius)\n",
    "print(\"Area:\", circle1.area())\n",
    "print(\"Perimeter:\", circle1.perimeter())\n",
    "\n",
    "print()"
   ]
  },
  {
   "cell_type": "code",
   "execution_count": 12,
   "id": "979b5adf",
   "metadata": {},
   "outputs": [
    {
     "name": "stdout",
     "output_type": "stream",
     "text": [
      "Post Lab 2\n",
      "Book 1 Details:\n",
      "Title: Hardware\n",
      "Author: Gaonkar\n",
      "Price: 500\n",
      "\n",
      "Book 2 Details:\n",
      "Title: Data Science\n",
      "Author: Forouzan\n",
      "Price: 600\n",
      "\n",
      "Applying 10% discount to Book 1:\n",
      "Book 1 Details after discount:\n",
      "Title: Hardware\n",
      "Author: Gaonkar\n",
      "Price: 450.0\n"
     ]
    }
   ],
   "source": [
    "print(\"Post Lab 2\")\n",
    "\n",
    "class Book:\n",
    "    def __init__(self, title, author, price):\n",
    "        self.title = title\n",
    "        self.author = author\n",
    "        self.price = price\n",
    "    \n",
    "    def display_details(self):\n",
    "        print(\"Title:\", self.title)\n",
    "        print(\"Author:\", self.author)\n",
    "        print(\"Price:\", self.price)\n",
    "    \n",
    "    def apply_discount(self, discount_percent):\n",
    "        discount_amount = self.price * discount_percent / 100\n",
    "        self.price = self.price - discount_amount\n",
    "\n",
    "# (a) Book objects\n",
    "b1 = Book(\"Hardware\", \"Gaonkar\", 500)\n",
    "b2 = Book(\"Data Science\", \"Forouzan\", 600)\n",
    "\n",
    "print(\"Book 1 Details:\")\n",
    "b1.display_details()\n",
    "print()\n",
    "\n",
    "print(\"Book 2 Details:\")\n",
    "b2.display_details()\n",
    "print()\n",
    "\n",
    "# (b) Discount\n",
    "print(\"Applying 10% discount to Book 1:\")\n",
    "b1.apply_discount(10)\n",
    "print(\"Book 1 Details after discount:\")\n",
    "b1.display_details()"
   ]
  }
 ],
 "metadata": {
  "kernelspec": {
   "display_name": "base",
   "language": "python",
   "name": "python3"
  },
  "language_info": {
   "codemirror_mode": {
    "name": "ipython",
    "version": 3
   },
   "file_extension": ".py",
   "mimetype": "text/x-python",
   "name": "python",
   "nbconvert_exporter": "python",
   "pygments_lexer": "ipython3",
   "version": "3.12.7"
  }
 },
 "nbformat": 4,
 "nbformat_minor": 5
}
