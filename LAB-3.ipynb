{
 "cells": [
  {
   "cell_type": "code",
   "execution_count": 1,
   "id": "150f90ca",
   "metadata": {},
   "outputs": [
    {
     "name": "stdout",
     "output_type": "stream",
     "text": [
      "ICT Department\n",
      " ICT Department \n"
     ]
    }
   ],
   "source": [
    "# create a string using double quotes\n",
    "string1 = \"ICT Department\"\n",
    "print(string1)\n",
    "# create a string using single quotes\n",
    "string1 = ' ICT Department '\n",
    "print(string1)\n"
   ]
  },
  {
   "cell_type": "code",
   "execution_count": 2,
   "id": "19ebe4c4",
   "metadata": {},
   "outputs": [
    {
     "name": "stdout",
     "output_type": "stream",
     "text": [
      "E\n"
     ]
    }
   ],
   "source": [
    "string2 = '3EK1'\n",
    "# access 1st index element\n",
    "print(string2 [1])\n"
   ]
  },
  {
   "cell_type": "code",
   "execution_count": 3,
   "id": "1d0d06fc",
   "metadata": {},
   "outputs": [
    {
     "name": "stdout",
     "output_type": "stream",
     "text": [
      "m\n"
     ]
    }
   ],
   "source": [
    "string3 = 'ICT Department'\n",
    "# access 4th last element\n",
    "print(string3 [-4]) \n"
   ]
  },
  {
   "cell_type": "code",
   "execution_count": 4,
   "id": "060b648c",
   "metadata": {},
   "outputs": [
    {
     "name": "stdout",
     "output_type": "stream",
     "text": [
      "CT \n"
     ]
    }
   ],
   "source": [
    "string4 = 'ICT Department'\n",
    "# access character from 1st index to 3rd index\n",
    "print(string4[1:4])  \n"
   ]
  },
  {
   "cell_type": "code",
   "execution_count": 5,
   "id": "824fb2ca",
   "metadata": {},
   "outputs": [
    {
     "name": "stdout",
     "output_type": "stream",
     "text": [
      "IC\n",
      "T Department\n"
     ]
    }
   ],
   "source": [
    "print(string4[:2])\n",
    "print(string4[2:])\n"
   ]
  },
  {
   "cell_type": "code",
   "execution_count": null,
   "id": "be175417",
   "metadata": {},
   "outputs": [
    {
     "name": "stdout",
     "output_type": "stream",
     "text": [
      "HCT Department\n"
     ]
    }
   ],
   "source": [
    "message = 'ICT Department'\n",
    "message[0] = 'H'\n",
    "print(message)\n"
   ]
  },
  {
   "cell_type": "code",
   "execution_count": 8,
   "id": "93162e96",
   "metadata": {},
   "outputs": [
    {
     "name": "stdout",
     "output_type": "stream",
     "text": [
      "ICT Department\n"
     ]
    }
   ],
   "source": [
    "message = 'ICT'\n",
    "# assign new string to message variable\n",
    "message = 'ICT Department'\n",
    "print(message)\n"
   ]
  },
  {
   "cell_type": "code",
   "execution_count": 9,
   "id": "b7399ce0",
   "metadata": {},
   "outputs": [
    {
     "name": "stdout",
     "output_type": "stream",
     "text": [
      "\n",
      "ICT\n",
      "Department\n",
      "3EK1\n",
      "\n"
     ]
    }
   ],
   "source": [
    "# multiline string \n",
    "message = \"\"\"\n",
    "ICT\n",
    "Department\n",
    "3EK1\n",
    "\"\"\"\n",
    "print(message)\n"
   ]
  },
  {
   "cell_type": "code",
   "execution_count": 10,
   "id": "883ff0c3",
   "metadata": {},
   "outputs": [
    {
     "name": "stdout",
     "output_type": "stream",
     "text": [
      "False\n",
      "False\n"
     ]
    }
   ],
   "source": [
    "str1 = \"ICT\"\n",
    "str2 = \"Department\"\n",
    "str3 = \"3EK1\"\n",
    "# compare str1 and str2\n",
    "print(str1 == str2)\n",
    "# compare str1 and str3\n",
    "print(str1 == str3)\n"
   ]
  },
  {
   "cell_type": "code",
   "execution_count": 11,
   "metadata": {},
   "outputs": [
    {
     "name": "stdout",
     "output_type": "stream",
     "text": [
      "ICTDepartment\n"
     ]
    }
   ],
   "source": [
    "greet = \"ICT\"\n",
    "name = \"Department\"\n",
    "# using + operator\n",
    "result = greet + name\n",
    "print(result)\n"
   ]
  },
  {
   "cell_type": "code",
   "execution_count": 12,
   "id": "62556426",
   "metadata": {},
   "outputs": [
    {
     "name": "stdout",
     "output_type": "stream",
     "text": [
      "3\n"
     ]
    }
   ],
   "source": [
    "greet = 'ICT'\n",
    "# count length of greet string\n",
    "print(len(greet))\n"
   ]
  },
  {
   "cell_type": "code",
   "execution_count": 13,
   "id": "c3ad75ae",
   "metadata": {},
   "outputs": [
    {
     "name": "stdout",
     "output_type": "stream",
     "text": [
      "True\n",
      "False\n"
     ]
    }
   ],
   "source": [
    "print('a' in 'program') \n",
    "print('at' not in 'battle') \n"
   ]
  },
  {
   "cell_type": "code",
   "execution_count": 14,
   "id": "4a5afcd5",
   "metadata": {},
   "outputs": [
    {
     "name": "stdout",
     "output_type": "stream",
     "text": [
      "PYTHON IS FUN\n"
     ]
    }
   ],
   "source": [
    "message = 'python is fun'\n",
    "# convert message to uppercase\n",
    "print(message.upper())\n"
   ]
  },
  {
   "cell_type": "code",
   "execution_count": 15,
   "metadata": {},
   "outputs": [
    {
     "name": "stdout",
     "output_type": "stream",
     "text": [
      "python is fun\n"
     ]
    }
   ],
   "source": [
    "message = 'PYTHON IS FUN'\n",
    "# convert message to lowercase\n",
    "print(message.lower())\n"
   ]
  },
  {
   "cell_type": "code",
   "execution_count": 16,
   "id": "f06adb16",
   "metadata": {},
   "outputs": [
    {
     "name": "stdout",
     "output_type": "stream",
     "text": [
      "ICT Department\n"
     ]
    }
   ],
   "source": [
    "text = 'CE Department'\n",
    "replaced_text = text.replace('CE', 'ICT')\n",
    "print(replaced_text)\n"
   ]
  },
  {
   "cell_type": "code",
   "execution_count": 17,
   "id": "c00ca4ab",
   "metadata": {},
   "outputs": [
    {
     "name": "stdout",
     "output_type": "stream",
     "text": [
      "12\n"
     ]
    }
   ],
   "source": [
    "message = 'Python is a fun programming language'\n",
    "# check the index of 'fun'\n",
    "print(message.find('fun'))\n"
   ]
  },
  {
   "cell_type": "code",
   "execution_count": 18,
   "id": "d1e928b3",
   "metadata": {},
   "outputs": [
    {
     "name": "stdout",
     "output_type": "stream",
     "text": [
      "Python Programming\n"
     ]
    }
   ],
   "source": [
    "title = 'Python Programming   '\n",
    "result = title.rstrip()\n",
    "print(result)\n"
   ]
  },
  {
   "cell_type": "code",
   "execution_count": 19,
   "id": "121e7107",
   "metadata": {},
   "outputs": [
    {
     "name": "stdout",
     "output_type": "stream",
     "text": [
      "['Python', 'is', 'fun']\n"
     ]
    }
   ],
   "source": [
    "text = 'Python is fun'\n",
    "# split the text from space\n",
    "print(text.split())\n"
   ]
  },
  {
   "cell_type": "code",
   "execution_count": 20,
   "id": "7548c1cd",
   "metadata": {},
   "outputs": [
    {
     "name": "stdout",
     "output_type": "stream",
     "text": [
      "True\n"
     ]
    }
   ],
   "source": [
    "message = 'Python is fun'\n",
    "# check if the message starts with Python\n",
    "print(message.startswith('Python'))\n"
   ]
  },
  {
   "cell_type": "code",
   "execution_count": 21,
   "id": "3e4b6178",
   "metadata": {},
   "outputs": [
    {
     "name": "stdout",
     "output_type": "stream",
     "text": [
      "True\n"
     ]
    }
   ],
   "source": [
    "pin = \"523\"\n",
    "# checks if every character of pin is numeric \n",
    "print(pin.isnumeric())\n"
   ]
  },
  {
   "cell_type": "code",
   "execution_count": 22,
   "id": "28261394",
   "metadata": {},
   "outputs": [
    {
     "name": "stdout",
     "output_type": "stream",
     "text": [
      "7\n"
     ]
    }
   ],
   "source": [
    "text = 'Python is fun'\n",
    "# find the index of is\n",
    "result = text.index('is')\n",
    "print(result)\n"
   ]
  },
  {
   "cell_type": "code",
   "execution_count": 23,
   "id": "facc9d77",
   "metadata": {},
   "outputs": [
    {
     "name": "stdout",
     "output_type": "stream",
     "text": [
      "Cathy is from UK\n"
     ]
    }
   ],
   "source": [
    "name = 'Cathy'\n",
    "country = 'UK'\n",
    "print(f'{name} is from {country}')\n"
   ]
  },
  {
   "cell_type": "code",
   "execution_count": 24,
   "id": "4d86d555",
   "metadata": {},
   "outputs": [
    {
     "name": "stdout",
     "output_type": "stream",
     "text": [
      "This is a \n",
      " normal string example\n",
      "This is a \\n raw string example\n"
     ]
    }
   ],
   "source": [
    "str = \"This is a \\n normal string example\" \n",
    "print(str) \n",
    "raw_str = r\"This is a \\n raw string example\" \n",
    "print(raw_str)\n"
   ]
  },
  {
   "cell_type": "code",
   "execution_count": null,
   "id": "fee80af2",
   "metadata": {},
   "outputs": [
    {
     "name": "stdout",
     "output_type": "stream",
     "text": [
      "Original string: mint\n",
      "Reversed string: tnim\n"
     ]
    }
   ],
   "source": [
    "#postlab-1\n",
    "text = input(\"Enter a string: \")\n",
    "\n",
    "reversed_text = text[::-1]\n",
    "\n",
    "print(\"Original string:\", text)\n",
    "print(\"Reversed string:\", reversed_text)\n"
   ]
  },
  {
   "cell_type": "code",
   "execution_count": null,
   "id": "cd749abf",
   "metadata": {},
   "outputs": [
    {
     "name": "stdout",
     "output_type": "stream",
     "text": [
      "NAYAN is a palindrome\n"
     ]
    }
   ],
   "source": [
    "#postlab-2\n",
    "word = input(\"Enter a word: \")\n",
    "\n",
    "word_lower = word.lower()\n",
    "reversed_word = word_lower[::-1]\n",
    "\n",
    "if word_lower == reversed_word:\n",
    "    print(word, \"is a palindrome\")\n",
    "else:\n",
    "    print(word, \"is not a palindrome\")\n"
   ]
  },
  {
   "cell_type": "code",
   "execution_count": null,
   "id": "2bee3ad6",
   "metadata": {},
   "outputs": [
    {
     "name": "stdout",
     "output_type": "stream",
     "text": [
      "The string contains only digits\n"
     ]
    }
   ],
   "source": [
    "#postlab-3\n",
    "text = input(\"Enter a string: \")\n",
    "\n",
    "if text.isdigit():\n",
    "    print(\"The string contains only digits\")\n",
    "else:\n",
    "    print(\"The string does not contain only digits\")\n"
   ]
  },
  {
   "cell_type": "code",
   "execution_count": null,
   "id": "15aa1546",
   "metadata": {},
   "outputs": [
    {
     "name": "stdout",
     "output_type": "stream",
     "text": [
      "The longest word is: manthan\n",
      "Its length is: 7\n"
     ]
    }
   ],
   "source": [
    "#postlab-4\n",
    "sentence = input(\"Enter a sentence: \")\n",
    "\n",
    "words = sentence.split()\n",
    "\n",
    "longest_word = \"\"\n",
    "for word in words:\n",
    "    if len(word) > len(longest_word):\n",
    "        longest_word = word\n",
    "\n",
    "print(\"The longest word is:\", longest_word)\n",
    "print(\"Its length is:\", len(longest_word))\n"
   ]
  },
  {
   "cell_type": "code",
   "execution_count": null,
   "id": "cd3cb59d",
   "metadata": {},
   "outputs": [
    {
     "name": "stdout",
     "output_type": "stream",
     "text": [
      "The last word is: department\n",
      "Length of the last word: 10\n"
     ]
    }
   ],
   "source": [
    "#postlab-5\n",
    "sentence = input(\"Enter a sentence: \")\n",
    "\n",
    "words = sentence.split()\n",
    "\n",
    "last_word = words[-1]\n",
    "\n",
    "length = len(last_word)\n",
    "print(\"The last word is:\", last_word)\n",
    "print(\"Length of the last word:\", length)\n"
   ]
  }
 ],
 "metadata": {
  "kernelspec": {
   "display_name": "Python 3",
   "language": "python",
   "name": "python3"
  },
  "language_info": {
   "codemirror_mode": {
    "name": "ipython",
    "version": 3
   },
   "file_extension": ".py",
   "mimetype": "text/x-python",
   "name": "python",
   "nbconvert_exporter": "python",
   "pygments_lexer": "ipython3",
   "version": "3.13.1"
  }
 },
 "nbformat": 4,
 "nbformat_minor": 5
}
