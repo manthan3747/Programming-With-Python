{
 "cells": [
  {
   "cell_type": "code",
   "execution_count": 2,
   "id": "2c40afd8",
   "metadata": {},
   "outputs": [
    {
     "name": "stdout",
     "output_type": "stream",
     "text": [
      "10\n",
      "Datatype of num1 is <class 'int'>\n",
      "2.5\n",
      "Datatype of num1 is <class 'float'>\n",
      "(2+6j)\n",
      "Datatype of num1 is <class 'complex'>\n"
     ]
    }
   ],
   "source": [
    "num1 = 10\n",
    "print(num1)\n",
    "print(\"Datatype of num1 is\", type(num1))\n",
    "\n",
    "num2 = 2.5\n",
    "print(num2)\n",
    "print(\"Datatype of num1 is\", type(num2))\n",
    "\n",
    "num3 = 2+6j\n",
    "print(num3)\n",
    "print(\"Datatype of num1 is\", type(num3))\n"
   ]
  },
  {
   "cell_type": "code",
   "execution_count": 3,
   "id": "efacc17f",
   "metadata": {},
   "outputs": [
    {
     "name": "stdout",
     "output_type": "stream",
     "text": [
      "Sum: -1\n",
      "Difference: 11\n",
      "Multiplication: -30\n",
      "Division: -0.8333333333333334\n"
     ]
    }
   ],
   "source": [
    "x = 5\n",
    "y = -6\n",
    "\n",
    "# Performing arithmetic operations\n",
    "sum_result = x + y\n",
    "difference_result = x - y\n",
    "multiplication_result = x * y\n",
    "division_result = x / y\n",
    "# Printing the results\n",
    "print(\"Sum:\", sum_result)\n",
    "print(\"Difference:\", difference_result)\n",
    "print(\"Multiplication:\", multiplication_result)\n",
    "print(\"Division:\", division_result)\n"
   ]
  },
  {
   "cell_type": "code",
   "execution_count": 4,
   "id": "f1f2d770",
   "metadata": {},
   "outputs": [
    {
     "name": "stdout",
     "output_type": "stream",
     "text": [
      "Greater than: False\n",
      "Less than or equal to: True\n",
      "Equal to: False\n",
      "Not equal to: True\n"
     ]
    }
   ],
   "source": [
    "a = 10\n",
    "b = 20\n",
    "# Comparing the values\n",
    "greater_than = a > b\n",
    "less_than_or_equal = a <= b\n",
    "equal_to = a == b\n",
    "not_equal_to = a != b\n",
    "# Printing the results\n",
    "print(\"Greater than:\", greater_than)\n",
    "print(\"Less than or equal to:\", less_than_or_equal)\n",
    "print(\"Equal to:\", equal_to)\n",
    "print(\"Not equal to:\", not_equal_to)\n"
   ]
  },
  {
   "cell_type": "code",
   "execution_count": 5,
   "metadata": {},
   "outputs": [
    {
     "name": "stdout",
     "output_type": "stream",
     "text": [
      "Sum: 5.640000000000001\n",
      "Difference: 0.6400000000000001\n",
      "Multiplication: 7.8500000000000005\n",
      "Division: 1.256\n"
     ]
    }
   ],
   "source": [
    "x = 3.14\n",
    "y = 2.5\n",
    "# Performing arithmetic operations\n",
    "sum_result = x + y\n",
    "difference_result = x - y\n",
    "multiplication_result = x * y\n",
    "division_result = x / y\n",
    "# Printing the results\n",
    "print(\"Sum:\", sum_result)\n",
    "print(\"Difference:\", difference_result)\n",
    "print(\"Multiplication:\", multiplication_result)\n",
    "print(\"Division:\", division_result)\n"
   ]
  },
  {
   "cell_type": "code",
   "execution_count": 6,
   "metadata": {},
   "outputs": [
    {
     "name": "stdout",
     "output_type": "stream",
     "text": [
      "Greater than: False\n",
      "Less than or equal to: True\n",
      "Equal to: False\n",
      "Not equal to: True\n"
     ]
    }
   ],
   "source": [
    "a = 1.2\n",
    "b = 2.7\n",
    "# Comparing the values\n",
    "greater_than = a > b\n",
    "less_than_or_equal = a <= b\n",
    "equal_to = a == b\n",
    "not_equal_to = a != b\n",
    "# Printing the results\n",
    "print(\"Greater than:\", greater_than)\n",
    "print(\"Less than or equal to:\", less_than_or_equal)\n",
    "print(\"Equal to:\", equal_to)\n",
    "print(\"Not equal to:\", not_equal_to)\n"
   ]
  },
  {
   "cell_type": "code",
   "execution_count": 7,
   "id": "45f768dd",
   "metadata": {},
   "outputs": [
    {
     "name": "stdout",
     "output_type": "stream",
     "text": [
      "Sum: (1+5j)\n",
      "Difference: (3+1j)\n",
      "Multiplication: (-8+1j)\n",
      "Division: (0.8-1.4j)\n"
     ]
    }
   ],
   "source": [
    "x = 2 + 3j\n",
    "y = -1 + 2j\n",
    "# Performing arithmetic operations\n",
    "sum_result = x + y\n",
    "difference_result = x - y\n",
    "multiplication_result = x * y\n",
    "division_result = x / y\n",
    "# Printing the results\n",
    "print(\"Sum:\", sum_result)\n",
    "print(\"Difference:\", difference_result)\n",
    "print(\"Multiplication:\", multiplication_result)\n",
    "print(\"Division:\", division_result)\n"
   ]
  },
  {
   "cell_type": "code",
   "execution_count": 8,
   "id": "f9e7c5f5",
   "metadata": {},
   "outputs": [
    {
     "name": "stdout",
     "output_type": "stream",
     "text": [
      "Equal to: False\n",
      "Not equal to: True\n"
     ]
    }
   ],
   "source": [
    "a = 1 + 2j\n",
    "b = 3 + 4j\n",
    "# Comparing the values\n",
    "equal_to = a == b\n",
    "not_equal_to = a != b\n",
    "# Printing the results\n",
    "print(\"Equal to:\", equal_to)\n",
    "print(\"Not equal to:\", not_equal_to)\n"
   ]
  },
  {
   "cell_type": "code",
   "execution_count": 7,
   "id": "5963000f",
   "metadata": {},
   "outputs": [
    {
     "name": "stdout",
     "output_type": "stream",
     "text": [
      "ICT Department 3EK1\n",
      "I\n",
      "ICT \n"
     ]
    }
   ],
   "source": [
    "st1 = \"ICT Department 3EK1\"\n",
    "print(st1)\n",
    "print(st1[0])\n",
    "print(st1[0:4])\n"
   ]
  },
  {
   "cell_type": "code",
   "execution_count": 17,
   "id": "8c240e0c",
   "metadata": {},
   "outputs": [
    {
     "name": "stdout",
     "output_type": "stream",
     "text": [
      "ICTDepartment3EK1\n"
     ]
    }
   ],
   "source": [
    "st1 = \"ICT\"\n",
    "st2 = \"Department\"\n",
    "st3 = \"3EK1\"\n",
    "print(st1+st2+st3)"
   ]
  },
  {
   "cell_type": "code",
   "execution_count": 9,
   "metadata": {},
   "outputs": [
    {
     "name": "stdout",
     "output_type": "stream",
     "text": [
      "ICT Department 3EK1ICT Department 3EK1ICT Department 3EK1ICT Department 3EK1\n"
     ]
    }
   ],
   "source": [
    "print(4*st1) "
   ]
  },
  {
   "cell_type": "code",
   "execution_count": 11,
   "id": "35ffdc0f",
   "metadata": {},
   "outputs": [
    {
     "name": "stdout",
     "output_type": "stream",
     "text": [
      "True\n"
     ]
    }
   ],
   "source": [
    "st1 = \"ICT Department 3EK1\"\n",
    "print(\"p\" in st1)\n"
   ]
  },
  {
   "cell_type": "code",
   "execution_count": 19,
   "metadata": {},
   "outputs": [
    {
     "name": "stdout",
     "output_type": "stream",
     "text": [
      "True\n"
     ]
    }
   ],
   "source": [
    "print(\"f\" not in st1)"
   ]
  },
  {
   "cell_type": "code",
   "execution_count": 20,
   "metadata": {},
   "outputs": [
    {
     "name": "stdout",
     "output_type": "stream",
     "text": [
      "[123, 567, 89]\n",
      "['hello', 'how', 'are']\n",
      "['hey', 1223, 'hello']\n"
     ]
    }
   ],
   "source": [
    "list1=[123,567,89] \n",
    "print(list1)\n",
    "\n",
    "list2=[\"hello\",\"how\",\"are\"] \n",
    "print(list2)\n",
    "\n",
    "list3= [\"hey\",1223,\"hello\"] \n",
    "print(list3)\n"
   ]
  },
  {
   "cell_type": "code",
   "execution_count": 21,
   "id": "8fe818b4",
   "metadata": {},
   "outputs": [
    {
     "name": "stdout",
     "output_type": "stream",
     "text": [
      "['apple', 'mango', 123, 345, 'grapes']\n"
     ]
    }
   ],
   "source": [
    "list1=[\"apple\",\"mango\",123,345]\n",
    "list2 = [\"grapes\"]\n",
    "print(list1+ list2)\n"
   ]
  },
  {
   "cell_type": "code",
   "execution_count": null,
   "id": "95f84f22",
   "metadata": {},
   "outputs": [
    {
     "name": "stdout",
     "output_type": "stream",
     "text": [
      "computer\n",
      "computer\n",
      "computercomputer\n",
      "{'comp': 'computer', 'sci': 'science', '123': 'computer', 456: 'maths'}\n"
     ]
    }
   ],
   "source": [
    "dict1 = {\"comp\": \"computer\", \"sci\": \"science\"}\n",
    "print(dict1[\"comp\"])\n",
    "dict2 = {\"123\": \"computer\", 456: \"maths\"}\n",
    "print(dict2[\"123\"])\n",
    "print(dict1[\"comp\"] + dict2[\"123\"])\n",
    "\n",
    "combined_dict = {**dict1, **dict2}\n",
    "print(combined_dict)\n",
    "\n",
    "\n"
   ]
  },
  {
   "cell_type": "code",
   "execution_count": null,
   "metadata": {},
   "outputs": [
    {
     "name": "stdout",
     "output_type": "stream",
     "text": [
      "{1, 2, 3, 4, 5}\n",
      "{1, 2, 3, 4, 5, 6, 7, 8}\n"
     ]
    }
   ],
   "source": [
    "my_set = {1, 2, 3, 4, 5}\n",
    "print(my_set)\n",
    "\n",
    "set1 = {1, 2, 3, 4, 5}\n",
    "set2 = {4, 5, 6, 7, 8}\n",
    "\n",
    "print(set1 + set2)\n"
   ]
  },
  {
   "cell_type": "code",
   "execution_count": 37,
   "metadata": {},
   "outputs": [
    {
     "name": "stdout",
     "output_type": "stream",
     "text": [
      "(2, 3, 4, 5, 6, 7)\n"
     ]
    }
   ],
   "source": [
    "my_tuple = (1, 2, 3, 4, 5)\n",
    "t1 = (2,3,4)\n",
    "t2 = (5,6,7)\n",
    "print(t1+t2)\n"
   ]
  },
  {
   "cell_type": "code",
   "execution_count": null,
   "id": "a66b814b",
   "metadata": {},
   "outputs": [
    {
     "name": "stdout",
     "output_type": "stream",
     "text": [
      "Welcome to Python\n",
      "Welcome to Python\n",
      "Welcome to Python\n",
      "Welcome to Python\n",
      "Welcome to Python\n",
      "\n"
     ]
    }
   ],
   "source": [
    "#postlab-1\n",
    "for i in range(5):\n",
    "    print(\"Welcome to Python\")\n",
    "\n",
    "print()\n"
   ]
  },
  {
   "cell_type": "code",
   "execution_count": null,
   "id": "75fe9566",
   "metadata": {},
   "outputs": [
    {
     "name": "stdout",
     "output_type": "stream",
     "text": [
      "a\ta^2\ta^3\n",
      "1\t1\t1\n",
      "2\t4\t8\n",
      "3\t9\t27\n",
      "4\t16\t64\n",
      "\n"
     ]
    }
   ],
   "source": [
    "#postlab-2\n",
    "print(\"a\\ta^2\\ta^3\")\n",
    "print(\"1\\t1\\t1\")\n",
    "print(\"2\\t4\\t8\")\n",
    "print(\"3\\t9\\t27\")\n",
    "print(\"4\\t16\\t64\")\n",
    "\n",
    "print()\n"
   ]
  },
  {
   "cell_type": "code",
   "execution_count": null,
   "id": "3cc1a5eb",
   "metadata": {},
   "outputs": [
    {
     "name": "stdout",
     "output_type": "stream",
     "text": [
      "The result of (9.5 × 4.5 - 2.5 × 3) / (45.5 - 3.5) is: 0.8392857142857143\n",
      "\n"
     ]
    }
   ],
   "source": [
    "#postlab-3\n",
    "result = (9.5 * 4.5 - 2.5 * 3) / (45.5 - 3.5)\n",
    "print(\"The result of (9.5 × 4.5 - 2.5 × 3) / (45.5 - 3.5) is:\", result)\n",
    "\n",
    "print()\n"
   ]
  }
 ],
 "metadata": {
  "kernelspec": {
   "display_name": "base",
   "language": "python",
   "name": "python3"
  },
  "language_info": {
   "codemirror_mode": {
    "name": "ipython",
    "version": 3
   },
   "file_extension": ".py",
   "mimetype": "text/x-python",
   "name": "python",
   "nbconvert_exporter": "python",
   "pygments_lexer": "ipython3",
   "version": "3.12.7"
  }
 },
 "nbformat": 4,
 "nbformat_minor": 5
}
