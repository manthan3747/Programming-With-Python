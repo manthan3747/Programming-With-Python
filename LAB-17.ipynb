{
 "cells": [
  {
   "cell_type": "code",
   "execution_count": 1,
   "id": "c138c785",
   "metadata": {},
   "outputs": [
    {
     "name": "stdout",
     "output_type": "stream",
     "text": [
      "Z-transform of x[n] = a^n u[n]:\n",
      "⎧     1            │a│    \n",
      "⎪  ───────     for │─│ < 1\n",
      "⎪    a             │z│    \n",
      "⎪  - ─ + 1                \n",
      "⎪    z                    \n",
      "⎪                         \n",
      "⎪  ∞                      \n",
      "⎨ ___                     \n",
      "⎪ ╲                       \n",
      "⎪  ╲    n  -n             \n",
      "⎪  ╱   a ⋅z     otherwise \n",
      "⎪ ╱                       \n",
      "⎪ ‾‾‾                     \n",
      "⎪n = 0                    \n",
      "⎩                         \n"
     ]
    }
   ],
   "source": [
    "import sympy as sp\n",
    "# Define symbols\n",
    "n, z, a = sp.symbols('n z a')\n",
    "# Define the signal x[n] = a^n * u[n]\n",
    "x_n = a**n\n",
    "# Compute the Z-transform\n",
    "X_z = sp.summation(x_n * z**(-n), (n, 0, sp.oo))\n",
    "# Print the result\n",
    "print(\"Z-transform of x[n] = a^n u[n]:\")\n",
    "sp.pprint(X_z, use_unicode=True)\n"
   ]
  },
  {
   "cell_type": "code",
   "execution_count": 2,
   "id": "03bbfc65",
   "metadata": {},
   "outputs": [
    {
     "name": "stdout",
     "output_type": "stream",
     "text": [
      "Z-transform of x[n] = a^n u[n]:\n",
      "⎧     1             1       \n",
      "⎪   ─────      for ─── < 1/2\n",
      "⎪       2          │z│      \n",
      "⎪   1 - ─                   \n",
      "⎪       z                   \n",
      "⎪                           \n",
      "⎪  ∞                        \n",
      "⎨ ___                       \n",
      "⎪ ╲                         \n",
      "⎪  ╲    n  -n               \n",
      "⎪  ╱   2 ⋅z      otherwise  \n",
      "⎪ ╱                         \n",
      "⎪ ‾‾‾                       \n",
      "⎪n = 0                      \n",
      "⎩                           \n"
     ]
    }
   ],
   "source": [
    "# Define symbols\n",
    "n, z, a = sp.symbols('n z a')\n",
    "# Define the signal x[n] = a^n * u[n]\n",
    "x_n = 2**n\n",
    "# Compute the Z-transform\n",
    "X_z = sp.summation(x_n * z**(-n), (n, 0, sp.oo))\n",
    "# Print the result\n",
    "print(\"Z-transform of x[n] = a^n u[n]:\")\n",
    "sp.pprint(X_z, use_unicode=True)\n"
   ]
  },
  {
   "cell_type": "code",
   "execution_count": 3,
   "id": "570dac33",
   "metadata": {},
   "outputs": [
    {
     "name": "stdout",
     "output_type": "stream",
     "text": [
      "Z-transform of the unit step signal u[n]:\n",
      "⎧    1           1     \n",
      "⎪  ─────    for ─── < 1\n",
      "⎪      1        │z│    \n",
      "⎪  1 - ─               \n",
      "⎪      z               \n",
      "⎪                      \n",
      "⎪  ∞                   \n",
      "⎨ ___                  \n",
      "⎪ ╲                    \n",
      "⎪  ╲    -n             \n",
      "⎪  ╱   z     otherwise \n",
      "⎪ ╱                    \n",
      "⎪ ‾‾‾                  \n",
      "⎪n = 0                 \n",
      "⎩                      \n"
     ]
    }
   ],
   "source": [
    "import sympy as sp\n",
    "# Define symbols\n",
    "n, z = sp.symbols('n z')\n",
    "# Define the unit step signal u[n]\n",
    "u_n = 1\n",
    "# Compute the Z-transform\n",
    "U_z = sp.summation(u_n * z**(-n), (n, 0, sp.oo))\n",
    "# Print the result\n",
    "print(\"Z-transform of the unit step signal u[n]:\")\n",
    "sp.pprint(U_z, use_unicode=True)\n"
   ]
  },
  {
   "cell_type": "code",
   "execution_count": 4,
   "id": "749c7e03",
   "metadata": {},
   "outputs": [
    {
     "name": "stdout",
     "output_type": "stream",
     "text": [
      "Z-transform of x[n] = exp(alpha * n) u[n]:\n",
      "  ∞           \n",
      " ___          \n",
      " ╲            \n",
      "  ╲    -n  α⋅n\n",
      "  ╱   z  ⋅ℯ   \n",
      " ╱            \n",
      " ‾‾‾          \n",
      "n = 0         \n"
     ]
    }
   ],
   "source": [
    "import sympy as sp\n",
    "# Define symbols\n",
    "n, z, alpha = sp.symbols('n z alpha')\n",
    "# Define the signal x[n] = exp(alpha * n) * u[n]\n",
    "x_n = sp.exp(alpha * n)\n",
    "# Compute the Z-transform\n",
    "X_z = sp.summation(x_n * z**(-n), (n, 0, sp.oo))\n",
    "# Print the result\n",
    "print(\"Z-transform of x[n] = exp(alpha * n) u[n]:\")\n",
    "sp.pprint(X_z, use_unicode=True)\n"
   ]
  },
  {
   "cell_type": "code",
   "execution_count": 5,
   "id": "b1fa104c",
   "metadata": {},
   "outputs": [
    {
     "name": "stdout",
     "output_type": "stream",
     "text": [
      "Z-transform of the finite sequence {1, 2, 3}:\n",
      "    2   3 \n",
      "1 + ─ + ──\n",
      "    z    2\n",
      "        z \n"
     ]
    }
   ],
   "source": [
    "import sympy as sp\n",
    "# Define symbols\n",
    "n, z = sp.symbols('n z')\n",
    "# Define the finite sequence x[n] = {1, 2, 3}\n",
    "x_n = [1, 2, 3]\n",
    "# Compute the Z-transform manually\n",
    "X_z = sum(x_n[i] * z**(-i) for i in range(len(x_n)))\n",
    "# Print the result\n",
    "print(\"Z-transform of the finite sequence {1, 2, 3}:\")\n",
    "sp.pprint(X_z, use_unicode=True)\n"
   ]
  },
  {
   "cell_type": "code",
   "execution_count": 6,
   "id": "66e6fcc6",
   "metadata": {},
   "outputs": [
    {
     "name": "stdout",
     "output_type": "stream",
     "text": [
      "Z-transform of x[n] = sin(omega * n) u[n]:\n",
      "  ∞               \n",
      " ___              \n",
      " ╲                \n",
      "  ╲    -n         \n",
      "  ╱   z  ⋅sin(n⋅ω)\n",
      " ╱                \n",
      " ‾‾‾              \n",
      "n = 0             \n"
     ]
    }
   ],
   "source": [
    "import sympy as sp\n",
    "# Define symbols\n",
    "n, z, omega = sp.symbols('n z omega')\n",
    "# Define the sinusoidal sequence x[n] = sin(omega * n) * u[n]\n",
    "x_n = sp.sin(omega * n)\n",
    "# Compute the Z-transform\n",
    "X_z = sp.summation(x_n * z**(-n), (n, 0, sp.oo))\n",
    "# Print the result\n",
    "print(\"Z-transform of x[n] = sin(omega * n) u[n]:\")\n",
    "sp.pprint(X_z, use_unicode=True)\n"
   ]
  },
  {
   "cell_type": "code",
   "execution_count": 11,
   "id": "b0059734",
   "metadata": {},
   "outputs": [
    {
     "name": "stdout",
     "output_type": "stream",
     "text": [
      "Post Lab 1\n",
      "Computing Z-transform...\n",
      "Sequence: x[n] = 3^n * u[n]\n",
      "Z-transform:\n",
      "⎧     1             1       \n",
      "⎪   ─────      for ─── < 1/3\n",
      "⎪       3          │z│      \n",
      "⎪   1 - ─                   \n",
      "⎪       z                   \n",
      "⎪                           \n",
      "⎪  ∞                        \n",
      "⎨ ___                       \n",
      "⎪ ╲                         \n",
      "⎪  ╲    n  -n               \n",
      "⎪  ╱   3 ⋅z      otherwise  \n",
      "⎪ ╱                         \n",
      "⎪ ‾‾‾                       \n",
      "⎪n = 0                      \n",
      "⎩                           \n",
      "\n",
      "Simplified Z-transform:\n",
      "⎧     z                          \n",
      "⎪   ─────      for z > 3 ∨ z < -3\n",
      "⎪   z - 3                        \n",
      "⎪                                \n",
      "⎪  ∞                             \n",
      "⎪ ___                            \n",
      "⎨ ╲                              \n",
      "⎪  ╲    n  -n                    \n",
      "⎪  ╱   3 ⋅z        otherwise     \n",
      "⎪ ╱                              \n",
      "⎪ ‾‾‾                            \n",
      "⎪n = 0                           \n",
      "⎩                                \n"
     ]
    }
   ],
   "source": [
    "print(\"Post Lab 1\")\n",
    "\n",
    "import sympy as sp\n",
    "\n",
    "# Define symbols\n",
    "n, z = sp.symbols('n z')\n",
    "\n",
    "# Define the sequence x[n] = 3^n * u[n]\n",
    "x_n = 3**n\n",
    "\n",
    "# Compute the Z-transform\n",
    "print(\"Computing Z-transform...\")\n",
    "X_z = sp.summation(x_n * z**(-n), (n, 0, sp.oo))\n",
    "\n",
    "# Print the result\n",
    "print(\"Sequence: x[n] = 3^n * u[n]\")\n",
    "print(\"Z-transform:\")\n",
    "sp.pprint(X_z, use_unicode=True)\n",
    "\n",
    "# Simplify the result\n",
    "X_z_simplified = sp.simplify(X_z)\n",
    "print(\"\\nSimplified Z-transform:\")\n",
    "sp.pprint(X_z_simplified, use_unicode=True)\n"
   ]
  },
  {
   "cell_type": "code",
   "execution_count": 10,
   "id": "58533175",
   "metadata": {},
   "outputs": [
    {
     "name": "stdout",
     "output_type": "stream",
     "text": [
      "Post Lab 2\n",
      "Computing Z-transform...\n",
      "Sequence: x[n] = cos(w*n) * u[n]\n",
      "Z-transform:\n",
      "  ∞               \n",
      " ___              \n",
      " ╲                \n",
      "  ╲    -n         \n",
      "  ╱   z  ⋅cos(n⋅w)\n",
      " ╱                \n",
      " ‾‾‾              \n",
      "n = 0             \n",
      "\n",
      "Simplified Z-transform:\n",
      "  ∞               \n",
      " ___              \n",
      " ╲                \n",
      "  ╲    -n         \n",
      "  ╱   z  ⋅cos(n⋅w)\n",
      " ╱                \n",
      " ‾‾‾              \n",
      "n = 0             \n"
     ]
    }
   ],
   "source": [
    "print(\"Post Lab 2\")\n",
    "\n",
    "# Define symbols\n",
    "n, z, w = sp.symbols('n z w')\n",
    "\n",
    "# Define the sequence x[n] = cos(w*n) * u[n]\n",
    "x_n = sp.cos(w * n)\n",
    "\n",
    "# Compute the Z-transform\n",
    "print(\"Computing Z-transform...\")\n",
    "X_z = sp.summation(x_n * z**(-n), (n, 0, sp.oo))\n",
    "\n",
    "# Print the result\n",
    "print(\"Sequence: x[n] = cos(w*n) * u[n]\")\n",
    "print(\"Z-transform:\")\n",
    "sp.pprint(X_z, use_unicode=True)\n",
    "\n",
    "# Simplify the result\n",
    "X_z_simplified = sp.simplify(X_z)\n",
    "print(\"\\nSimplified Z-transform:\")\n",
    "sp.pprint(X_z_simplified, use_unicode=True)\n"
   ]
  }
 ],
 "metadata": {
  "kernelspec": {
   "display_name": "base",
   "language": "python",
   "name": "python3"
  },
  "language_info": {
   "codemirror_mode": {
    "name": "ipython",
    "version": 3
   },
   "file_extension": ".py",
   "mimetype": "text/x-python",
   "name": "python",
   "nbconvert_exporter": "python",
   "pygments_lexer": "ipython3",
   "version": "3.12.7"
  }
 },
 "nbformat": 4,
 "nbformat_minor": 5
}
