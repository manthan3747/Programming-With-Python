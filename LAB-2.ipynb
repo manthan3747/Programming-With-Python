{
 "cells": [
  {
   "cell_type": "code",
   "execution_count": 1,
   "id": "eca0d063",
   "metadata": {},
   "outputs": [
    {
     "name": "stdout",
     "output_type": "stream",
     "text": [
      "The sum of 10 and 30 is: 40\n"
     ]
    }
   ],
   "source": [
    "num1, num2 = 10, 30\n",
    "sum= num1+num2\n",
    "print(\"The sum of\",num1,\"and\",num2,\"is:\",sum)\n"
   ]
  },
  {
   "cell_type": "code",
   "execution_count": 2,
   "metadata": {},
   "outputs": [
    {
     "name": "stdout",
     "output_type": "stream",
     "text": [
      "The subtraction of 10 and 30 is: -20\n"
     ]
    }
   ],
   "source": [
    "num1, num2 = 10, 30\n",
    "sub= num1-num2\n",
    "print(\"The subtraction of\",num1,\"and\",num2,\"is:\",sub)\n"
   ]
  },
  {
   "cell_type": "code",
   "execution_count": 3,
   "metadata": {},
   "outputs": [
    {
     "name": "stdout",
     "output_type": "stream",
     "text": [
      "The product of 10 and 30 is: 300\n"
     ]
    }
   ],
   "source": [
    "num1, num2 = 10, 30\n",
    "product= num1*num2\n",
    "print(\"The product of\",num1,\"and\",num2,\"is:\",product)\n"
   ]
  },
  {
   "cell_type": "code",
   "execution_count": 4,
   "id": "1e80d041",
   "metadata": {},
   "outputs": [
    {
     "name": "stdout",
     "output_type": "stream",
     "text": [
      "The division of 10 and 30 is: 0.3333333333333333\n"
     ]
    }
   ],
   "source": [
    "num1, num2 = 10, 30\n",
    "div = num1/num2\n",
    "print(\"The division of\",num1,\"and\",num2,\"is:\",div)\n"
   ]
  },
  {
   "cell_type": "code",
   "execution_count": 5,
   "metadata": {},
   "outputs": [
    {
     "name": "stdout",
     "output_type": "stream",
     "text": [
      "The reminder of 10 and 30 is: 10\n"
     ]
    }
   ],
   "source": [
    "num1, num2 = 10, 30\n",
    "rem = num1%num2\n",
    "print(\"The reminder of\",num1,\"and\",num2,\"is:\",rem)\n"
   ]
  },
  {
   "cell_type": "code",
   "execution_count": 6,
   "metadata": {},
   "outputs": [
    {
     "name": "stdout",
     "output_type": "stream",
     "text": [
      "The exponentiation of 10 and 3 is: 1000\n"
     ]
    }
   ],
   "source": [
    "num1, num2 = 10, 3\n",
    "exp = num1**num2\n",
    "print(\"The exponentiation of\",num1,\"and\",num2,\"is:\",exp)\n"
   ]
  },
  {
   "cell_type": "code",
   "execution_count": 7,
   "metadata": {},
   "outputs": [
    {
     "name": "stdout",
     "output_type": "stream",
     "text": [
      "The Floor Division of 10 and 3 is: 3\n"
     ]
    }
   ],
   "source": [
    "num1, num2 = 10, 3\n",
    "floordiv = num1//num2\n",
    "print(\"The Floor Division of\",num1,\"and\",num2,\"is:\",floordiv)\n"
   ]
  },
  {
   "cell_type": "code",
   "execution_count": 8,
   "metadata": {},
   "outputs": [
    {
     "name": "stdout",
     "output_type": "stream",
     "text": [
      "2\n"
     ]
    }
   ],
   "source": [
    "x = 8\n",
    "y = 3\n",
    "mod = x % y\n",
    "print (mod)\n"
   ]
  },
  {
   "cell_type": "code",
   "execution_count": 9,
   "metadata": {},
   "outputs": [
    {
     "name": "stdout",
     "output_type": "stream",
     "text": [
      "1\n"
     ]
    }
   ],
   "source": [
    "a = -5\n",
    "b = 2\n",
    "res1 = a % b\n",
    "print (res1)\n"
   ]
  },
  {
   "cell_type": "code",
   "execution_count": 10,
   "metadata": {},
   "outputs": [
    {
     "name": "stdout",
     "output_type": "stream",
     "text": [
      "-1\n"
     ]
    }
   ],
   "source": [
    "m = 5\n",
    "n = -2\n",
    "res2 = m % n\n",
    "print (res2)\n"
   ]
  },
  {
   "cell_type": "code",
   "execution_count": 11,
   "metadata": {},
   "outputs": [
    {
     "name": "stdout",
     "output_type": "stream",
     "text": [
      "-1\n"
     ]
    }
   ],
   "source": [
    "e = -5\n",
    "f = -2\n",
    "res3 = e % f\n",
    "print (res3)\n"
   ]
  },
  {
   "cell_type": "code",
   "execution_count": 12,
   "id": "c40c3e6f",
   "metadata": {},
   "outputs": [
    {
     "name": "stdout",
     "output_type": "stream",
     "text": [
      "6.0\n"
     ]
    }
   ],
   "source": [
    "print (((5 + 4) / 3) * 2)"
   ]
  },
  {
   "cell_type": "code",
   "execution_count": 13,
   "id": "f1b165fa",
   "metadata": {},
   "outputs": [
    {
     "name": "stdout",
     "output_type": "stream",
     "text": [
      "2\n",
      "0\n"
     ]
    }
   ],
   "source": [
    "x = 3\n",
    "y = 4\n",
    "z = 6\n",
    "print(x*y//z)\n",
    "print(x*(y//z))\n"
   ]
  },
  {
   "cell_type": "code",
   "execution_count": 14,
   "metadata": {},
   "outputs": [
    {
     "name": "stdout",
     "output_type": "stream",
     "text": [
      "512\n",
      "64\n"
     ]
    }
   ],
   "source": [
    "x = 2\n",
    "y = 3\n",
    "z = 2\n",
    "print(x**y**z)\n",
    "print((x**y)**z)\n"
   ]
  },
  {
   "cell_type": "code",
   "execution_count": null,
   "id": "255dfe65",
   "metadata": {},
   "outputs": [
    {
     "name": "stdout",
     "output_type": "stream",
     "text": [
      "Rectangle Area and Perimeter\n",
      "Area of rectangle: 108.0\n",
      "Perimeter of rectangle: 42.0\n",
      "\n"
     ]
    }
   ],
   "source": [
    "#postlab-1\n",
    "print(\"Rectangle Area and Perimeter\")\n",
    "length = float(input(\"Enter length: \"))\n",
    "width = float(input(\"Enter width: \"))\n",
    "\n",
    "area = length * width\n",
    "perimeter = 2 * (length + width)\n",
    "\n",
    "print(\"Area of rectangle:\", area)\n",
    "print(\"Perimeter of rectangle:\", perimeter)\n",
    "print()\n"
   ]
  },
  {
   "cell_type": "code",
   "execution_count": null,
   "metadata": {},
   "outputs": [
    {
     "name": "stdout",
     "output_type": "stream",
     "text": [
      "Even or Odd Number\n",
      "5 is odd\n",
      "\n"
     ]
    }
   ],
   "source": [
    "#postlab-2\n",
    "print(\"Even or Odd Number\")\n",
    "number = int(input(\"Enter a number: \"))\n",
    "\n",
    "if number % 2 == 0:\n",
    "    print(number, \"is even\")\n",
    "else:\n",
    "    print(number, \"is odd\")\n",
    "print()\n"
   ]
  },
  {
   "cell_type": "code",
   "execution_count": null,
   "id": "7b663858",
   "metadata": {},
   "outputs": [
    {
     "name": "stdout",
     "output_type": "stream",
     "text": [
      "Cube Area and Volume\n",
      "Area of cube: 150.0\n",
      "Volume of cube: 125.0\n",
      "\n"
     ]
    }
   ],
   "source": [
    "#postlab-3\n",
    "print(\"Cube Area and Volume\")\n",
    "side = float(input(\"Enter side length of cube: \"))\n",
    "\n",
    "area = 6 * side * side\n",
    "volume = side * side * side\n",
    "\n",
    "print(\"Area of cube:\", area)\n",
    "print(\"Volume of cube:\", volume)\n",
    "print()\n"
   ]
  },
  {
   "cell_type": "code",
   "execution_count": null,
   "id": "b061b99f",
   "metadata": {},
   "outputs": [
    {
     "name": "stdout",
     "output_type": "stream",
     "text": [
      "Equation z = (x+y)*(x-y)\n",
      "z = ( 4.0 + 5.0 ) * ( 4.0 - 5.0 )\n",
      "z = -9.0\n",
      "\n"
     ]
    }
   ],
   "source": [
    "#postlab-4\n",
    "print(\"Equation z = (x+y)*(x-y)\")\n",
    "x = float(input(\"Enter value of x: \"))\n",
    "y = float(input(\"Enter value of y: \"))\n",
    "\n",
    "z = (x + y) * (x - y)\n",
    "\n",
    "print(\"z = (\", x, \"+\", y, \") * (\", x, \"-\", y, \")\")\n",
    "print(\"z =\", z)\n",
    "print()\n"
   ]
  },
  {
   "cell_type": "code",
   "execution_count": null,
   "id": "d1e0faae",
   "metadata": {},
   "outputs": [
    {
     "name": "stdout",
     "output_type": "stream",
     "text": [
      "Equation z = (x+y)*(x+y)-2xy \n",
      "z = ( 4.0 + 5.0 )^2 - 2* 4.0 * 5.0\n",
      "z = 41.0\n"
     ]
    }
   ],
   "source": [
    "#postlab-5\n",
    "print(\"Equation z = (x+y)*(x+y)-2xy \")\n",
    "x = float(input(\"Enter value of x: \"))\n",
    "y = float(input(\"Enter value of y: \"))\n",
    "\n",
    "z = (x + y) * (x + y) - 2 * x * y\n",
    "\n",
    "print(\"z = (\", x, \"+\", y, \")^2 - 2*\", x, \"*\", y)\n",
    "print(\"z =\", z)\n"
   ]
  },
  {
   "cell_type": "code",
   "execution_count": null,
   "id": "10023e68",
   "metadata": {},
   "outputs": [
    {
     "name": "stdout",
     "output_type": "stream",
     "text": [
      "Celsius to Fahrenheit Conversion\n",
      "30.0 ºC = 86.0 ºF\n",
      "\n"
     ]
    }
   ],
   "source": [
    "#postlab-6\n",
    "print(\"Celsius to Fahrenheit Conversion\")\n",
    "celsius = float(input(\"Enter temperature in Celsius: \"))\n",
    "\n",
    "fahrenheit = (celsius * 9/5) + 32\n",
    "\n",
    "print(celsius, \"ºC =\", fahrenheit, \"ºF\")\n",
    "print()\n"
   ]
  }
 ],
 "metadata": {
  "kernelspec": {
   "display_name": "base",
   "language": "python",
   "name": "python3"
  },
  "language_info": {
   "codemirror_mode": {
    "name": "ipython",
    "version": 3
   },
   "file_extension": ".py",
   "mimetype": "text/x-python",
   "name": "python",
   "nbconvert_exporter": "python",
   "pygments_lexer": "ipython3",
   "version": "3.12.7"
  }
 },
 "nbformat": 4,
 "nbformat_minor": 5
}
