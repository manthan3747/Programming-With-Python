{
 "cells": [
  {
   "cell_type": "code",
   "execution_count": 5,
   "id": "cf00d4d5",
   "metadata": {},
   "outputs": [
    {
     "name": "stdout",
     "output_type": "stream",
     "text": [
      "manthan dobariya\n"
     ]
    }
   ],
   "source": [
    "import numpy as np\n",
    "list1 = [2, 4, 6, 8]\n",
    "array1 = np.array(list1)\n",
    "print(\"manthan dobariya\")\n"
   ]
  },
  {
   "cell_type": "code",
   "execution_count": 1,
   "id": "e5a0b614",
   "metadata": {},
   "outputs": [
    {
     "name": "stdout",
     "output_type": "stream",
     "text": [
      "[2 4 6 8]\n",
      "manthan dobariya\n"
     ]
    }
   ],
   "source": [
    "import numpy as np\n",
    "array1 = np.array([2, 4, 6, 8])\n",
    "print(array1)\n",
    "print(\"manthan dobariya\")\n"
   ]
  },
  {
   "cell_type": "code",
   "execution_count": 2,
   "id": "f2603b16",
   "metadata": {},
   "outputs": [
    {
     "name": "stdout",
     "output_type": "stream",
     "text": [
      "[0. 0. 0. 0.]\n",
      "manthan dobariya\n"
     ]
    }
   ],
   "source": [
    "import numpy as np\n",
    "array1 = np.zeros(4)\n",
    "print(array1)\n",
    "print(\"manthan dobariya\")"
   ]
  },
  {
   "cell_type": "code",
   "execution_count": 3,
   "id": "c91ac4e5",
   "metadata": {},
   "outputs": [
    {
     "name": "stdout",
     "output_type": "stream",
     "text": [
      "Using np.arange(5): [0 1 2 3 4]\n",
      "Using np.arange(1, 9, 2): [1 3 5 7]\n",
      "manthan dobariya\n"
     ]
    }
   ],
   "source": [
    "import numpy as np\n",
    "# create an array with values from 0 to 4\n",
    "array1 = np.arange(5)\n",
    "print(\"Using np.arange(5):\", array1)\n",
    "# create an array with values from 1 to 8 with a step of 2\n",
    "array2 = np.arange(1, 9, 2)\n",
    "print(\"Using np.arange(1, 9, 2):\",array2)\n",
    "\n",
    "print(\"manthan dobariya\")"
   ]
  },
  {
   "cell_type": "code",
   "execution_count": 4,
   "id": "cfb2a4cf",
   "metadata": {},
   "outputs": [
    {
     "name": "stdout",
     "output_type": "stream",
     "text": [
      "[0.01582309 0.49288661 0.80375511 0.6058643  0.76320768]\n",
      "manthan dobariya\n"
     ]
    }
   ],
   "source": [
    "import numpy as np\n",
    "# generate an array of 5 random numbers\n",
    "array1 = np.random.rand(5)\n",
    "print(array1)\n",
    "print(\"manthan dobariya\")"
   ]
  },
  {
   "cell_type": "code",
   "execution_count": 5,
   "id": "be7a4195",
   "metadata": {},
   "outputs": [
    {
     "name": "stdout",
     "output_type": "stream",
     "text": [
      "My 1D array:\n",
      " [10 20 30]\n",
      "manthan dobariya\n"
     ]
    }
   ],
   "source": [
    "import numpy as np\n",
    "# Example 1: Creation of 1D array\n",
    "arr1=np.array([10,20,30])\n",
    "print(\"My 1D array:\\n\",arr1)\n",
    "print(\"manthan dobariya\")"
   ]
  },
  {
   "cell_type": "code",
   "execution_count": 6,
   "id": "69eb156d",
   "metadata": {},
   "outputs": [
    {
     "name": "stdout",
     "output_type": "stream",
     "text": [
      "My 2D numpy array:\n",
      " [[10 20 30]\n",
      " [40 50 60]]\n",
      "manthan dobariya\n"
     ]
    }
   ],
   "source": [
    "arr2 = np.array([[10,20,30],[40,50,60]])\n",
    "print(\"My 2D numpy array:\\n\", arr2)\n",
    "print(\"manthan dobariya\")"
   ]
  },
  {
   "cell_type": "code",
   "execution_count": 7,
   "id": "18a5ab52",
   "metadata": {},
   "outputs": [
    {
     "name": "stdout",
     "output_type": "stream",
     "text": [
      "A sequential array with steps of 3:\n",
      " [ 0  3  6  9 12 15 18]\n",
      "manthan dobariya\n"
     ]
    }
   ],
   "source": [
    "arr= np.arange(0, 20, 3)\n",
    "print (\"A sequential array with steps of 3:\\n\", arr)\n",
    "print(\"manthan dobariya\")"
   ]
  },
  {
   "cell_type": "code",
   "execution_count": 8,
   "id": "476e47b6",
   "metadata": {},
   "outputs": [
    {
     "name": "stdout",
     "output_type": "stream",
     "text": [
      "A sequential array with 5 values between 0 and 5:\n",
      " [0.   0.75 1.5  2.25 3.  ]\n",
      "manthan dobariya\n"
     ]
    }
   ],
   "source": [
    "arr= np.linspace(0, 3, 5)\n",
    "print (\"A sequential array with 5 values between 0 and 5:\\n\", arr)\n",
    "print(\"manthan dobariya\")"
   ]
  },
  {
   "cell_type": "code",
   "execution_count": 9,
   "id": "c5bd25d9",
   "metadata": {},
   "outputs": [
    {
     "name": "stdout",
     "output_type": "stream",
     "text": [
      "numpy array:\n",
      " [[1. 1. 1.]\n",
      " [1. 1. 1.]]\n",
      "Type: <class 'numpy.ndarray'>\n",
      "manthan dobariya\n"
     ]
    }
   ],
   "source": [
    "arr = np.ones((2,3))\n",
    "print(\"numpy array:\\n\", arr)\n",
    "print(\"Type:\", type(arr))\n",
    "print(\"manthan dobariya\")"
   ]
  },
  {
   "cell_type": "code",
   "execution_count": 10,
   "id": "8cd7a697",
   "metadata": {},
   "outputs": [
    {
     "name": "stdout",
     "output_type": "stream",
     "text": [
      "int64\n",
      "float64\n",
      "complex128\n",
      "manthan dobariya\n"
     ]
    }
   ],
   "source": [
    "import numpy as np\n",
    "# create an array of  integers\n",
    "int_array = np.array([-3, -1, 0, 1])\n",
    "# create an array of floating-point numbers\n",
    "float_array = np.array([0.1, 0.2, 0.3])\n",
    "# create an array of complex numbers\n",
    "complex_array = np.array([1+2j, 2+3j, 3+4j])\n",
    "# check the data type of int_array\n",
    "print(int_array.dtype)  # prints int64\n",
    "# check the data type of float_array\n",
    "print(float_array.dtype)  # prints float64\n",
    "# check the data type of complex_array\n",
    "print(complex_array.dtype)  # prints complex128\n",
    "\n",
    "print(\"manthan dobariya\")"
   ]
  },
  {
   "cell_type": "code",
   "execution_count": 11,
   "id": "40ec3e58",
   "metadata": {},
   "outputs": [
    {
     "name": "stdout",
     "output_type": "stream",
     "text": [
      "[1 3 7] int8\n",
      "[2 4 6] uint16\n",
      "[1.2 2.3 3.4] float32\n",
      "[1.+2.j 2.+3.j 3.+4.j] complex64\n",
      "manthan dobariya\n"
     ]
    }
   ],
   "source": [
    "# create an array of 8-bit integers\n",
    "array1 = np.array([1, 3, 7], dtype='int8')\n",
    "# create an array of unsigned 16-bit integers\n",
    "array2 = np.array([2, 4, 6], dtype='uint16')\n",
    "# create an array of 32-bit floating-point numbers\n",
    "array3 = np.array([1.2, 2.3, 3.4], dtype='float32')\n",
    "# create an array of 64-bit complex numbers\n",
    "array4 = np.array([1+2j, 2+3j, 3+4j], dtype='complex64')\n",
    "# print the arrays and their data types\n",
    "print(array1, array1.dtype)\n",
    "print(array2, array2.dtype)\n",
    "print(array3, array3.dtype)\n",
    "print(array4, array4.dtype)\n",
    "\n",
    "print(\"manthan dobariya\")"
   ]
  },
  {
   "cell_type": "code",
   "execution_count": 12,
   "id": "785faf76",
   "metadata": {},
   "outputs": [
    {
     "name": "stdout",
     "output_type": "stream",
     "text": [
      "[1 3 5 7] int64\n",
      "[1. 3. 5. 7.] float64\n",
      "manthan dobariya\n"
     ]
    }
   ],
   "source": [
    "import numpy as np\n",
    "# create an array of integers\n",
    "int_array = np.array([1, 3, 5, 7])\n",
    "# convert data type of int_array to float\n",
    "float_array = int_array.astype('float')\n",
    "# print the arrays and their data types\n",
    "print(int_array, int_array.dtype)\n",
    "print(float_array, float_array.dtype)\n",
    "print(\"manthan dobariya\")"
   ]
  },
  {
   "cell_type": "code",
   "execution_count": 13,
   "id": "7af7f398",
   "metadata": {},
   "outputs": [
    {
     "name": "stdout",
     "output_type": "stream",
     "text": [
      "2\n",
      "manthan dobariya\n"
     ]
    }
   ],
   "source": [
    "# create a 2-D array \n",
    "array1 = np.array([[2, 4, 6],\n",
    "                  [1, 3, 5]])\n",
    "# check the dimension of array1\n",
    "print(array1.ndim)\n",
    "print(\"manthan dobariya\")"
   ]
  },
  {
   "cell_type": "code",
   "execution_count": 14,
   "id": "6935542c",
   "metadata": {},
   "outputs": [
    {
     "name": "stdout",
     "output_type": "stream",
     "text": [
      "6\n",
      "manthan dobariya\n"
     ]
    }
   ],
   "source": [
    "import numpy as np\n",
    "array1 = np.array([[1, 2, 3],\n",
    "                 [6, 7, 8]])\n",
    "# return total number of elements in array1\n",
    "print(array1.size)\n",
    "print(\"manthan dobariya\")"
   ]
  },
  {
   "cell_type": "code",
   "execution_count": 15,
   "id": "7def49f7",
   "metadata": {},
   "outputs": [
    {
     "name": "stdout",
     "output_type": "stream",
     "text": [
      "(2, 3)\n",
      "manthan dobariya\n"
     ]
    }
   ],
   "source": [
    "import numpy as np\n",
    "array1 = np.array([[1, 2, 3],\n",
    "                [6, 7, 8]])\n",
    "# return a tuple that gives size of array in each dimension\n",
    "print(array1.shape)\n",
    "print(\"manthan dobariya\")"
   ]
  },
  {
   "cell_type": "code",
   "execution_count": 16,
   "id": "ecaf3c31",
   "metadata": {},
   "outputs": [
    {
     "name": "stdout",
     "output_type": "stream",
     "text": [
      "int64\n",
      "manthan dobariya\n"
     ]
    }
   ],
   "source": [
    "import numpy as np\n",
    "# create an array of integers \n",
    "array1 = np.array([6, 7, 8])\n",
    "# check the data type of array1\n",
    "print(array1.dtype)\n",
    "print(\"manthan dobariya\")"
   ]
  },
  {
   "cell_type": "code",
   "execution_count": 17,
   "id": "56c67f2f",
   "metadata": {},
   "outputs": [
    {
     "name": "stdout",
     "output_type": "stream",
     "text": [
      "8\n",
      "4\n",
      "manthan dobariya\n"
     ]
    }
   ],
   "source": [
    "import numpy as np\n",
    "# create a default 1-D array of integers\n",
    "array1 = np.array([6, 7, 8, 10, 13])\n",
    "# create a 1-D array of 32-bit integers \n",
    "array2 = np.array([6, 7, 8, 10, 13], dtype=np.int32)\n",
    "# use of itemsize to determine size of each array element of array1 and array2\n",
    "print(array1.itemsize)  # prints 8\n",
    "print(array2.itemsize)  # prints 4\n",
    "print(\"manthan dobariya\")"
   ]
  },
  {
   "cell_type": "code",
   "execution_count": 18,
   "id": "0d07cf68",
   "metadata": {},
   "outputs": [
    {
     "name": "stdout",
     "output_type": "stream",
     "text": [
      "\n",
      "Data of array1 is:  <memory at 0x0000020282290400>\n",
      "Data of array2 is:  <memory at 0x00000202822A8110>\n",
      "manthan dobariya\n"
     ]
    }
   ],
   "source": [
    "import numpy as np\n",
    "array1 = np.array([6, 7, 8])\n",
    "array2 = np.array([[1, 2, 3],\n",
    "                   \t    [6, 7, 8]])\n",
    "# print memory address of array1's and array2's data\n",
    "print(\"\\nData of array1 is: \",array1.data)\n",
    "print(\"Data of array2 is: \",array2.data)\n",
    "print(\"manthan dobariya\")"
   ]
  },
  {
   "cell_type": "code",
   "execution_count": 19,
   "id": "22a31984",
   "metadata": {},
   "outputs": [
    {
     "name": "stdout",
     "output_type": "stream",
     "text": [
      "Original matrices:\n",
      "[[1, 0], [0, 1]]\n",
      "[[1, 2], [3, 4]]\n",
      "Result of the matrix multiplication:\n",
      "[[1 2]\n",
      " [3 4]]\n",
      "manthan dobariya\n"
     ]
    }
   ],
   "source": [
    "import numpy as np\n",
    "p = [[1, 0], [0, 1]]\n",
    "q = [[1, 2], [3, 4]]\n",
    "print(\"Original matrices:\")\n",
    "print(p)\n",
    "print(q)\n",
    "# Perform matrix multiplication using np.dot\n",
    "result1 = np.dot(p, q)\n",
    "print(\"Result of the matrix multiplication:\")\n",
    "print(result1)\n",
    "\n",
    "print(\"manthan dobariya\")"
   ]
  },
  {
   "cell_type": "code",
   "execution_count": 20,
   "id": "94f3f74c",
   "metadata": {},
   "outputs": [
    {
     "name": "stdout",
     "output_type": "stream",
     "text": [
      "Original 2-d array\n",
      "[[1 0]\n",
      " [1 2]]\n",
      "Determinant of the said 2-D array:\n",
      "2.0\n",
      "manthan dobariya\n"
     ]
    }
   ],
   "source": [
    "import numpy as np\n",
    "from numpy import linalg as LA\n",
    "a = np.array([[1, 0], [1, 2]])\n",
    "# Display the original 2x2 array 'a'\n",
    "print(\"Original 2-d array\")\n",
    "print(a)\n",
    "print(\"Determinant of the said 2-D array:\")\n",
    "print(np.linalg.det(a))\n",
    "print(\"manthan dobariya\")"
   ]
  },
  {
   "cell_type": "code",
   "execution_count": 21,
   "id": "1df3e0aa",
   "metadata": {},
   "outputs": [
    {
     "name": "stdout",
     "output_type": "stream",
     "text": [
      "[[ 2  3  4]\n",
      " [ 5  6  7]\n",
      " [ 8  9 10]]\n",
      "manthan dobariya\n"
     ]
    }
   ],
   "source": [
    "import numpy as np\n",
    "\n",
    "arr = np.arange(2, 11).reshape(3, 3)\n",
    "print(arr)\n",
    "print(\"manthan dobariya\")\n"
   ]
  },
  {
   "cell_type": "code",
   "execution_count": 22,
   "id": "7cef54fc",
   "metadata": {},
   "outputs": [
    {
     "name": "stdout",
     "output_type": "stream",
     "text": [
      "[5 4 3 2 1]\n",
      "manthan dobariya\n"
     ]
    }
   ],
   "source": [
    "import numpy as np\n",
    "\n",
    "arr = np.array([1, 2, 3, 4, 5])\n",
    "rev = arr[::-1]\n",
    "print(rev)\n",
    "print(\"manthan dobariya\")\n"
   ]
  },
  {
   "cell_type": "code",
   "execution_count": 1,
   "id": "b260e63a",
   "metadata": {},
   "outputs": [
    {
     "name": "stdout",
     "output_type": "stream",
     "text": [
      "[4 5]\n",
      "manthan dobariya\n"
     ]
    }
   ],
   "source": [
    "import numpy as np\n",
    "\n",
    "arr1 = np.array([1, 2, 3, 4, 5])\n",
    "arr2 = np.array([4, 5, 6, 7, 8])\n",
    "common = np.intersect1d(arr1, arr2)\n",
    "print(common)\n",
    "print(\"manthan dobariya\")\n"
   ]
  },
  {
   "cell_type": "code",
   "execution_count": 23,
   "id": "f4bd3f06",
   "metadata": {},
   "outputs": [
    {
     "name": "stdout",
     "output_type": "stream",
     "text": [
      "[1 1 1 2 2 2 3 3 3]\n",
      "manthan dobariya\n"
     ]
    }
   ],
   "source": [
    "import numpy as np\n",
    "\n",
    "arr = np.array([1, 2, 3])\n",
    "rep = np.repeat(arr, 3)\n",
    "print(rep)\n",
    "print(\"manthan dobariya\")\n"
   ]
  },
  {
   "cell_type": "code",
   "execution_count": 24,
   "id": "29679d4a",
   "metadata": {},
   "outputs": [
    {
     "name": "stdout",
     "output_type": "stream",
     "text": [
      "40 bytes\n",
      "manthan dobariya\n"
     ]
    }
   ],
   "source": [
    "import numpy as np\n",
    "\n",
    "arr = np.array([1, 2, 3, 4, 5])\n",
    "print(arr.size * arr.itemsize, \"bytes\")\n",
    "print(\"manthan dobariya\")\n"
   ]
  },
  {
   "cell_type": "code",
   "execution_count": 25,
   "id": "a80dbc16",
   "metadata": {},
   "outputs": [
    {
     "name": "stdout",
     "output_type": "stream",
     "text": [
      "Ones:\n",
      " [[1. 1. 1.]\n",
      " [1. 1. 1.]\n",
      " [1. 1. 1.]]\n",
      "Zeros:\n",
      " [[0. 0. 0.]\n",
      " [0. 0. 0.]\n",
      " [0. 0. 0.]]\n",
      "manthan dobariya\n"
     ]
    }
   ],
   "source": [
    "import numpy as np\n",
    "\n",
    "ones = np.ones((3, 3))\n",
    "zeros = np.zeros((3, 3))\n",
    "print(\"Ones:\\n\", ones)\n",
    "print(\"Zeros:\\n\", zeros)\n",
    "print(\"manthan dobariya\")\n"
   ]
  },
  {
   "cell_type": "code",
   "execution_count": 26,
   "id": "7e195c3b",
   "metadata": {},
   "outputs": [
    {
     "name": "stdout",
     "output_type": "stream",
     "text": [
      "4th element: 40\n",
      "manthan dobariya\n"
     ]
    }
   ],
   "source": [
    "import numpy as np\n",
    "\n",
    "arr = np.array([10, 20, 30, 40, 50])\n",
    "print(\"4th element:\", arr[3])\n",
    "print(\"manthan dobariya\")\n"
   ]
  }
 ],
 "metadata": {
  "kernelspec": {
   "display_name": "Python 3",
   "language": "python",
   "name": "python3"
  },
  "language_info": {
   "codemirror_mode": {
    "name": "ipython",
    "version": 3
   },
   "file_extension": ".py",
   "mimetype": "text/x-python",
   "name": "python",
   "nbconvert_exporter": "python",
   "pygments_lexer": "ipython3",
   "version": "3.13.1"
  }
 },
 "nbformat": 4,
 "nbformat_minor": 5
}
