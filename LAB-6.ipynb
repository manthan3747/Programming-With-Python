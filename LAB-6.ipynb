{
 "cells": [
  {
   "cell_type": "code",
   "execution_count": 3,
   "id": "cced8f77",
   "metadata": {},
   "outputs": [
    {
     "name": "stdout",
     "output_type": "stream",
     "text": [
      " x is greater than 5 \n"
     ]
    }
   ],
   "source": [
    "x = 10\n",
    "if x>5:\n",
    "    print(' x is greater than 5 ')\n"
   ]
  },
  {
   "cell_type": "code",
   "execution_count": null,
   "id": "ebfe2baa",
   "metadata": {},
   "outputs": [
    {
     "name": "stdout",
     "output_type": "stream",
     "text": [
      "x is greater than 5\n"
     ]
    }
   ],
   "source": [
    "x = 10\n",
    "if  x>5:\n",
    "    print('x is greater than 5')\n",
    "elif x ==5:\n",
    "   print('x is equal to 5')\n",
    "else:\n",
    "   print('x is less than 5')\n"
   ]
  },
  {
   "cell_type": "code",
   "execution_count": 6,
   "id": "d3c5a821",
   "metadata": {},
   "outputs": [
    {
     "name": "stdout",
     "output_type": "stream",
     "text": [
      "x is greater than 5\n"
     ]
    }
   ],
   "source": [
    "x = 10\n",
    "if x>5:\n",
    "   print('x is greater than 5')\n",
    "else:\n",
    "   print('x is not greater than 5')\n"
   ]
  },
  {
   "cell_type": "code",
   "execution_count": 7,
   "id": "b5bcf4b5",
   "metadata": {},
   "outputs": [
    {
     "name": "stdout",
     "output_type": "stream",
     "text": [
      "You are an adult.\n"
     ]
    }
   ],
   "source": [
    "age = 35\n",
    "\n",
    "if age >= 60:\n",
    "    print(\"You are a senior citizen.\")\n",
    "else:\n",
    "    if age >= 18:\n",
    "        print(\"You are an adult.\")\n",
    "    else:\n",
    "        print(\"You are a teenager.\")\n"
   ]
  },
  {
   "cell_type": "code",
   "execution_count": 8,
   "id": "512dd781",
   "metadata": {},
   "outputs": [
    {
     "name": "stdout",
     "output_type": "stream",
     "text": [
      "The number is positive and even.\n"
     ]
    }
   ],
   "source": [
    "num = 10\n",
    "\n",
    "if num > 0:\n",
    "    if num % 2 == 0:\n",
    "        print(\"The number is positive and even.\")\n",
    "    else:\n",
    "        print(\"The number is positive but odd.\")\n",
    "else:\n",
    "    print(\"The number is not positive.\")\n"
   ]
  },
  {
   "cell_type": "code",
   "execution_count": 10,
   "id": "f7c40ac9",
   "metadata": {},
   "outputs": [
    {
     "name": "stdout",
     "output_type": "stream",
     "text": [
      "apple\n",
      "banana\n",
      "cherry\n"
     ]
    }
   ],
   "source": [
    "Fruits = [\"apple\", \"banana\", \"cherry\"]\n",
    "for fruit in Fruits:\n",
    "      print(fruit)\n"
   ]
  },
  {
   "cell_type": "code",
   "execution_count": null,
   "id": "ac392ed6",
   "metadata": {},
   "outputs": [
    {
     "name": "stdout",
     "output_type": "stream",
     "text": [
      "1\n",
      "2\n",
      "3\n",
      "4\n",
      "5\n"
     ]
    }
   ],
   "source": [
    "x = 1\n",
    "while x<=5:\n",
    "     print(x)\n",
    "     x+=1\n",
    "     \n"
   ]
  },
  {
   "cell_type": "code",
   "execution_count": 14,
   "id": "b27761e7",
   "metadata": {},
   "outputs": [
    {
     "name": "stdout",
     "output_type": "stream",
     "text": [
      "3\n"
     ]
    }
   ],
   "source": [
    "x = 1\n",
    "for x in range(1, 6):\n",
    "\tif x == 3:\n",
    "\t\tbreak\n",
    "print(x)\n"
   ]
  },
  {
   "cell_type": "code",
   "execution_count": 19,
   "id": "a4cc565f",
   "metadata": {},
   "outputs": [
    {
     "name": "stdout",
     "output_type": "stream",
     "text": [
      "5\n"
     ]
    }
   ],
   "source": [
    "x = 1\n",
    "for x in range(1,6):\n",
    "\tif x == 3:\n",
    "\t    continue \n",
    "print(x)\n"
   ]
  },
  {
   "cell_type": "code",
   "execution_count": 20,
   "id": "e22fbb6e",
   "metadata": {},
   "outputs": [
    {
     "name": "stdout",
     "output_type": "stream",
     "text": [
      "1\n",
      "2\n",
      "3\n",
      "4\n",
      "5\n"
     ]
    }
   ],
   "source": [
    "x = 1\n",
    "for x in range(1,6):\n",
    "    if x == 3:\n",
    "        pass\n",
    "    print(x)\n"
   ]
  },
  {
   "cell_type": "code",
   "execution_count": 3,
   "id": "c1962843",
   "metadata": {},
   "outputs": [
    {
     "name": "stdout",
     "output_type": "stream",
     "text": [
      "8\n"
     ]
    }
   ],
   "source": [
    "add = lambda x, y: x + y\n",
    "print(add(3, 5))\n"
   ]
  },
  {
   "cell_type": "code",
   "execution_count": 5,
   "id": "6d34ca70",
   "metadata": {},
   "outputs": [
    {
     "name": "stdout",
     "output_type": "stream",
     "text": [
      "120\n"
     ]
    }
   ],
   "source": [
    "def factorial(n):\n",
    "    if n == 1:\n",
    "        return 1\n",
    "    else:\n",
    "        return n * factorial(n - 1)\n",
    "\n",
    "print(factorial(5))\n"
   ]
  },
  {
   "cell_type": "code",
   "execution_count": 6,
   "id": "b6c1cb37",
   "metadata": {},
   "outputs": [
    {
     "name": "stdout",
     "output_type": "stream",
     "text": [
      "1 3 5 7 9 11 13 15 17 19 21 23 25 27 29 31 33 35 37 39 41 43 45 47 49 51 53 55 57 59 61 63 65 67 69 71 73 75 77 79 81 83 85 87 89 91 93 95 97 99 \n",
      "manthan dobariya\n"
     ]
    }
   ],
   "source": [
    "i = 1\n",
    "while i <= 100:\n",
    "    if i % 2 != 0:\n",
    "        print(i, end=' ')\n",
    "    i += 1\n",
    "print(\"\\nmanthan dobariya\")\n"
   ]
  },
  {
   "cell_type": "code",
   "execution_count": 15,
   "id": "0f2847dc",
   "metadata": {},
   "outputs": [
    {
     "name": "stdout",
     "output_type": "stream",
     "text": [
      "Sum of natural numbers from 1 to 2007 is: 2015028\n",
      "manthan dobariya\n"
     ]
    }
   ],
   "source": [
    "n = int(input(\"Enter a number: \"))\n",
    "sum = 0\n",
    "i = 1\n",
    "while i <= n:\n",
    "    sum += i\n",
    "    i += 1\n",
    "print(\"Sum of natural numbers from 1 to\", n, \"is:\", sum_n)\n",
    "print(\"manthan dobariya\")\n"
   ]
  },
  {
   "cell_type": "code",
   "execution_count": 16,
   "id": "03d67b23",
   "metadata": {},
   "outputs": [
    {
     "name": "stdout",
     "output_type": "stream",
     "text": [
      "No. of digits: 4\n",
      "manthan dobariya\n"
     ]
    }
   ],
   "source": [
    "def count_digits(num):\n",
    "    count = 0\n",
    "    while num != 0:\n",
    "        num //= 10\n",
    "        count += 1\n",
    "    return count\n",
    "\n",
    "number = int(input(\"Enter a number: \"))\n",
    "print(\"No. of digits:\", count_digits(number))\n",
    "print(\"manthan dobariya\")\n"
   ]
  },
  {
   "cell_type": "code",
   "execution_count": 10,
   "id": "403217a5",
   "metadata": {},
   "outputs": [
    {
     "name": "stdout",
     "output_type": "stream",
     "text": [
      "First digit: 2\n",
      "Last digit: 7\n",
      "manthan dobariya\n"
     ]
    }
   ],
   "source": [
    "num = int(input(\"Enter a number: \"))\n",
    "last_digit = num % 10\n",
    "\n",
    "first_digit = num\n",
    "while first_digit >= 10:\n",
    "    first_digit //= 10\n",
    "\n",
    "print(\"First digit:\", first_digit)\n",
    "print(\"Last digit:\", last_digit)\n",
    "print(\"manthan dobariya\")\n"
   ]
  },
  {
   "cell_type": "code",
   "execution_count": 11,
   "id": "517ec156",
   "metadata": {},
   "outputs": [
    {
     "name": "stdout",
     "output_type": "stream",
     "text": [
      "Swapped number: 7002\n",
      "manthan dobariya\n"
     ]
    }
   ],
   "source": [
    "num = int(input(\"Enter a number: \"))\n",
    "num_str = str(num)\n",
    "\n",
    "if len(num_str) == 1:\n",
    "    swapped = num\n",
    "else:\n",
    "    swapped = num_str[-1] + num_str[1:-1] + num_str[0]\n",
    "\n",
    "print(\"Swapped number:\", swapped)\n",
    "print(\"manthan dobariya\")\n"
   ]
  },
  {
   "cell_type": "code",
   "execution_count": 13,
   "id": "e507c4b5",
   "metadata": {},
   "outputs": [
    {
     "name": "stdout",
     "output_type": "stream",
     "text": [
      "Product of digits: 0\n",
      "manthan dobariya\n"
     ]
    }
   ],
   "source": [
    "num = int(input(\"Enter a number: \"))\n",
    "product = 1\n",
    "\n",
    "while num > 0:\n",
    "    digit = num % 10\n",
    "    product *= digit\n",
    "    num //= 10\n",
    "\n",
    "print(\"Product of digits:\", product)\n",
    "print(\"manthan dobariya\")\n"
   ]
  },
  {
   "cell_type": "code",
   "execution_count": 14,
   "id": "cf00d4d5",
   "metadata": {},
   "outputs": [
    {
     "name": "stdout",
     "output_type": "stream",
     "text": [
      "Reversed number: 7002\n",
      "manthan dobariya\n"
     ]
    }
   ],
   "source": [
    "num = int(input(\"Enter a number: \"))\n",
    "reverse = 0\n",
    "\n",
    "while num > 0:\n",
    "    digit = num % 10\n",
    "    reverse = reverse * 10 + digit\n",
    "    num //= 10\n",
    "\n",
    "print(\"Reversed number:\", reverse)\n",
    "print(\"manthan dobariya\")\n"
   ]
  }
 ],
 "metadata": {
  "kernelspec": {
   "display_name": "Python 3",
   "language": "python",
   "name": "python3"
  },
  "language_info": {
   "codemirror_mode": {
    "name": "ipython",
    "version": 3
   },
   "file_extension": ".py",
   "mimetype": "text/x-python",
   "name": "python",
   "nbconvert_exporter": "python",
   "pygments_lexer": "ipython3",
   "version": "3.13.1"
  }
 },
 "nbformat": 4,
 "nbformat_minor": 5
}
