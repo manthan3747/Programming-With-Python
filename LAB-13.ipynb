{
 "cells": [
  {
   "cell_type": "code",
   "execution_count": 4,
   "id": "c2b96478",
   "metadata": {},
   "outputs": [],
   "source": [
    "file1 = open(r\"D:\\College\\BTECH(2025-2028)\\SEM3\\Python\\ict.txt\")"
   ]
  },
  {
   "cell_type": "code",
   "execution_count": 5,
   "id": "870ae46a",
   "metadata": {},
   "outputs": [
    {
     "name": "stdout",
     "output_type": "stream",
     "text": [
      "ICT ICT ICT \n",
      "\n",
      "ICT ICT ICT ICT ICT\n"
     ]
    }
   ],
   "source": [
    "f1 = open(r\"D:\\College\\BTECH(2025-2028)\\SEM3\\Python\\ict.txt\")\n",
    "# This will print every line one by one in the file\n",
    "for each in f1:\n",
    "    print (each)\n",
    "\n"
   ]
  },
  {
   "cell_type": "code",
   "execution_count": 6,
   "id": "27cb35d5",
   "metadata": {},
   "outputs": [
    {
     "name": "stdout",
     "output_type": "stream",
     "text": [
      "ICT ICT ICT \n",
      "ICT ICT ICT ICT ICT\n"
     ]
    }
   ],
   "source": [
    "# Python code to illustrate read() mode\n",
    "f1 = open(r\"D:\\College\\BTECH(2025-2028)\\SEM3\\Python\\ict.txt\")\n",
    "print (f1.read())\n"
   ]
  },
  {
   "cell_type": "code",
   "execution_count": 7,
   "id": "3cf72922",
   "metadata": {},
   "outputs": [
    {
     "name": "stdout",
     "output_type": "stream",
     "text": [
      "ICT ICT ICT \n",
      "ICT ICT ICT ICT ICT\n"
     ]
    }
   ],
   "source": [
    "with open(r\"D:\\College\\BTECH(2025-2028)\\SEM3\\Python\\ict.txt\",'r') as f1:  \n",
    "    data = f1.read() \n",
    "print(data)\n"
   ]
  },
  {
   "cell_type": "code",
   "execution_count": 8,
   "id": "121e29f1",
   "metadata": {},
   "outputs": [
    {
     "name": "stdout",
     "output_type": "stream",
     "text": [
      "ICT I\n"
     ]
    }
   ],
   "source": [
    "f1 = open(r\"D:\\College\\BTECH(2025-2028)\\SEM3\\Python\\ict.txt\")\n",
    "print (f1.read(5))\n"
   ]
  },
  {
   "cell_type": "code",
   "execution_count": 9,
   "id": "9b3e496f",
   "metadata": {},
   "outputs": [
    {
     "name": "stdout",
     "output_type": "stream",
     "text": [
      "['ICT', 'ICT', 'ICT']\n",
      "['ICT', 'ICT', 'ICT', 'ICT', 'ICT']\n"
     ]
    }
   ],
   "source": [
    "with open(r\"D:\\College\\BTECH(2025-2028)\\SEM3\\Python\\ict.txt\",'r') as file:\n",
    "    data = file.readlines()\n",
    "    for line in data:\n",
    "        word = line.split()\n",
    "        print (word)\n"
   ]
  },
  {
   "cell_type": "code",
   "execution_count": 10,
   "id": "607ac8e9",
   "metadata": {},
   "outputs": [],
   "source": [
    "file = open(\"ict1.txt\",'w')\n",
    "file.write(\"ICT ICT ICT \\n\")\n",
    "file.write(\"ICT ICT ICT ICT ICT\")\n",
    "file.close()\n"
   ]
  },
  {
   "cell_type": "code",
   "execution_count": 11,
   "id": "ecff2ea5",
   "metadata": {},
   "outputs": [],
   "source": [
    "with open(\"file.txt\", \"w\") as f: \n",
    "    f.write(\"Hello World!!!\") \n",
    "    f.close()\n"
   ]
  },
  {
   "cell_type": "code",
   "execution_count": 12,
   "id": "133182de",
   "metadata": {},
   "outputs": [],
   "source": [
    "file = open(\"ict1.txt\",'a')\n",
    "file.write(\"\\n Department Department\")\n",
    "file.close()\n"
   ]
  },
  {
   "cell_type": "code",
   "execution_count": 13,
   "id": "f673b6cb",
   "metadata": {},
   "outputs": [],
   "source": [
    "with open(r'D:\\College\\BTECH(2025-2028)\\SEM3\\Python\\a.tif', 'rb') as file:\n",
    "    binary_data = file.read()\n"
   ]
  },
  {
   "cell_type": "code",
   "execution_count": 14,
   "id": "88931bea",
   "metadata": {},
   "outputs": [],
   "source": [
    "with open('c.tif', 'wb') as f:\n",
    "    f.write(binary_data)\n",
    "    f.close()\n"
   ]
  },
  {
   "cell_type": "code",
   "execution_count": 17,
   "id": "42aa0bde",
   "metadata": {},
   "outputs": [
    {
     "name": "stdout",
     "output_type": "stream",
     "text": [
      "['Name', 'City', 'Number']\n",
      "['A', 'M', '1']\n",
      "['B', 'N', '4']\n",
      "['C', 'V', '5']\n",
      "['D', 'B', '7']\n",
      "['E', 'J', '8']\n",
      "['F', 'G', '9']\n",
      "['G', 'F', '7']\n",
      "['H', 'D', '5']\n",
      "['I', 'C', '6']\n",
      "['J', 'X', '7']\n",
      "['K', 'Z', '3']\n",
      "['L', 'S', '4']\n",
      "['M', 'R', '6']\n"
     ]
    }
   ],
   "source": [
    "import csv\n",
    "\n",
    "with open('data.csv', 'r') as file:\n",
    "    reader = csv.reader(file)\n",
    "    for row in reader:\n",
    "        print(row)\n"
   ]
  },
  {
   "cell_type": "code",
   "execution_count": 18,
   "id": "a641acb9",
   "metadata": {},
   "outputs": [],
   "source": [
    "import csv\n",
    "with open('output.csv', 'w', newline='') as file:\n",
    "    writer = csv.writer(file)\n",
    "    writer.writerow(['Name', 'Subject', 'Mark'])\n",
    "    writer.writerow(['Aansh', 'PWP', 9])\n",
    "    writer.writerow(['Ashutosh', 'PWP', 10])\n",
    "    file.close()\n"
   ]
  }
 ],
 "metadata": {
  "kernelspec": {
   "display_name": "base",
   "language": "python",
   "name": "python3"
  },
  "language_info": {
   "codemirror_mode": {
    "name": "ipython",
    "version": 3
   },
   "file_extension": ".py",
   "mimetype": "text/x-python",
   "name": "python",
   "nbconvert_exporter": "python",
   "pygments_lexer": "ipython3",
   "version": "3.12.7"
  }
 },
 "nbformat": 4,
 "nbformat_minor": 5
}
